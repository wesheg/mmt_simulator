{
 "cells": [
  {
   "cell_type": "markdown",
   "metadata": {},
   "source": [
    "# Pure Credit Economy Model"
   ]
  },
  {
   "cell_type": "markdown",
   "metadata": {},
   "source": [
    "## Actors\n",
    "- **Workers** producing & consuming goods\n",
    "- **Capitalists** borrowing to create firms, repaying debt, & consuming goods\n",
    "- **Firms** receiving capital, paying workers, paying earnings to Capitalists\n",
    "- **Banks** lending money & collecting interest"
   ]
  },
  {
   "cell_type": "markdown",
   "metadata": {},
   "source": [
    "<div style=\"float: left; width: 23%\">\n",
    "    <img src=\"img/Banks.png\">\n",
    "</div>\n",
    "<div style=\"float: left; width: 23%;\">\n",
    "    <img src=\"img/Capitalists.png\">\n",
    "</div>\n",
    "<div style=\"float: left; width: 23%\">\n",
    "    <img src=\"img/Firms.png\">\n",
    "</div>\n",
    "<div style=\"float: left; width: 23%;\">\n",
    "    <img src=\"img/Workers.png\">\n",
    "</div>\n"
   ]
  },
  {
   "cell_type": "markdown",
   "metadata": {},
   "source": [
    "## Assumptions\n",
    "- Total of $100 in the economy. Starts out in bank reserves\n",
    "- Banking sector must maintain positive equity\n",
    "- Economy is self-contained; no foreign imports, exports, or investment"
   ]
  },
  {
   "cell_type": "markdown",
   "metadata": {},
   "source": [
    "## Important Equations\n",
    "- GDP = Consumption + Investment\n",
    "- Money Supply = \\$100 - Bank Reserves"
   ]
  },
  {
   "cell_type": "code",
   "execution_count": 1,
   "metadata": {},
   "outputs": [
    {
     "data": {
      "application/vnd.jupyter.widget-view+json": {
       "model_id": "5cccb41795e44350bdef6cb1daa3a4dd",
       "version_major": 2,
       "version_minor": 0
      },
      "text/plain": [
       "HBox(children=(VBox(children=(HTML(value='<h1>Pure Credit Economy Simulation</h1>'), HBox(children=(IntSlider(…"
      ]
     },
     "metadata": {},
     "output_type": "display_data"
    }
   ],
   "source": [
    "from Python.controller import Controller\n",
    "c = Controller()\n",
    "c.app"
   ]
  },
  {
   "cell_type": "code",
   "execution_count": 8,
   "metadata": {},
   "outputs": [],
   "source": [
    "c.make_loan(1)"
   ]
  },
  {
   "cell_type": "code",
   "execution_count": 9,
   "metadata": {},
   "outputs": [],
   "source": [
    "c.invest(1)"
   ]
  },
  {
   "cell_type": "code",
   "execution_count": 4,
   "metadata": {},
   "outputs": [],
   "source": [
    "c.pay_workers(1)"
   ]
  },
  {
   "cell_type": "code",
   "execution_count": 5,
   "metadata": {},
   "outputs": [],
   "source": [
    "c.workers_consume(1)"
   ]
  },
  {
   "cell_type": "code",
   "execution_count": 6,
   "metadata": {},
   "outputs": [],
   "source": [
    "c.pay_capitalists(1)"
   ]
  },
  {
   "cell_type": "code",
   "execution_count": 7,
   "metadata": {},
   "outputs": [],
   "source": [
    "c.repay_loan(1)"
   ]
  },
  {
   "cell_type": "code",
   "execution_count": null,
   "metadata": {},
   "outputs": [],
   "source": []
  }
 ],
 "metadata": {
  "kernelspec": {
   "display_name": "Python 3 (sandboxed)",
   "language": "python",
   "name": "python3"
  },
  "language_info": {
   "codemirror_mode": {
    "name": "ipython",
    "version": 3
   },
   "file_extension": ".py",
   "mimetype": "text/x-python",
   "name": "python",
   "nbconvert_exporter": "python",
   "pygments_lexer": "ipython3",
   "version": "3.7.1"
  },
  "widgets": {
   "application/vnd.jupyter.widget-state+json": {
    "state": {
     "01b380c3eade4fffbb111831458f029d": {
      "model_module": "ipydatagrid",
      "model_module_version": "^1.1.12",
      "model_name": "TextRendererModel",
      "state": {
       "_model_module_version": "^1.1.12",
       "_view_module_version": "^1.1.12",
       "background_color": "IPY_MODEL_bf0a8e8cf5c1414093826c683652107c",
       "text_color": "IPY_MODEL_551aa87de28443cba6ff790af2a3ebca"
      }
     },
     "024bc0b18cb24813aa52f64ab0044353": {
      "model_module": "@jupyter-widgets/controls",
      "model_module_version": "1.5.0",
      "model_name": "HTMLModel",
      "state": {
       "layout": "IPY_MODEL_1a81fdc080b24b81a1783785b0c6d747",
       "style": "IPY_MODEL_2e81da39c2ae416288b56a3c0e8642a1",
       "value": "<h5>Firms<h5>"
      }
     },
     "02d09cf2b0e14ea48da0b796d2e969db": {
      "model_module": "ipydatagrid",
      "model_module_version": "^1.1.12",
      "model_name": "DataGridModel",
      "state": {
       "_data": {
        "data": [
         {
          "Account": "Cash",
          "Balance Sheet": "Assets",
          "Banks": 32.842687282378215,
          "ipydguuid": 0
         },
         {
          "Account": "Capitalists Loans",
          "Balance Sheet": "Assets",
          "Banks": 67.15731271762185,
          "ipydguuid": 1
         },
         {
          "Account": "Total",
          "Balance Sheet": "Assets",
          "Banks": 100.00000000000006,
          "ipydguuid": 2
         },
         {
          "Account": "Capitalists Accounts",
          "Balance Sheet": "Liabilities",
          "Banks": 14.622748127294125,
          "ipydguuid": 3
         },
         {
          "Account": "Worker Accounts",
          "Balance Sheet": "Liabilities",
          "Banks": 3.609023069824545,
          "ipydguuid": 4
         },
         {
          "Account": "Firm Accounts",
          "Balance Sheet": "Liabilities",
          "Banks": 48.92554152050309,
          "ipydguuid": 5
         },
         {
          "Account": "Total",
          "Balance Sheet": "Liabilities",
          "Banks": 67.15731271762174,
          "ipydguuid": 6
         },
         {
          "Account": "Bank Reserves",
          "Balance Sheet": "Equity",
          "Banks": 32.842687282378215,
          "ipydguuid": 7
         },
         {
          "Account": "Total",
          "Balance Sheet": "Equity",
          "Banks": 32.842687282378215,
          "ipydguuid": 8
         },
         {
          "Account": "Total",
          "Balance Sheet": "Liabs & Eq",
          "Banks": 99.99999999999994,
          "ipydguuid": 9
         }
        ],
        "fields": [
         {
          "Balance Sheet": null
         },
         {
          "Account": null
         },
         {
          "Banks": null
         },
         {
          "ipydguuid": null
         }
        ],
        "schema": {
         "fields": [
          {
           "name": "Balance Sheet",
           "type": "string"
          },
          {
           "name": "Account",
           "type": "string"
          },
          {
           "name": "Banks",
           "type": "number"
          },
          {
           "name": "ipydguuid",
           "type": "integer"
          }
         ],
         "pandas_version": "0.20.0",
         "primaryKey": [
          "Balance Sheet",
          "Account",
          "ipydguuid"
         ],
         "primaryKeyUuid": "ipydguuid"
        }
       },
       "_model_module_version": "^1.1.12",
       "_model_name": "DataGridModel",
       "_view_module_version": "^1.1.12",
       "_visible_rows": [
        0,
        1,
        2,
        3,
        4,
        5,
        6,
        7,
        8,
        9
       ],
       "auto_fit_columns": false,
       "auto_fit_params": {
        "area": "all",
        "numCols": null,
        "padding": 30
       },
       "base_column_header_size": 20,
       "base_column_size": 64,
       "base_row_header_size": 64,
       "base_row_size": 20,
       "column_widths": {
        "Account": 110,
        "Balance Sheet": 110,
        "Banks": 75
       },
       "default_renderer": "IPY_MODEL_84061a8c5fd74a15b68fcf7f2afbee33",
       "header_visibility": "all",
       "layout": "IPY_MODEL_f9aa1b7478a64c1380a70d207493db4e",
       "renderers": {
        "Banks": "IPY_MODEL_37e72ef94802461eb42916d32ab1a605"
       }
      }
     },
     "0481fc8357594cbf8c91ff32a4874939": {
      "model_module": "@jupyter-widgets/controls",
      "model_module_version": "1.5.0",
      "model_name": "VBoxModel",
      "state": {
       "children": [
        "IPY_MODEL_14e51af953744a81be1512f12f5879fe",
        "IPY_MODEL_b1a63fae23e046808b349b0a782efdb8",
        "IPY_MODEL_b7f8f7e79daa4e4899a830df05c60752",
        "IPY_MODEL_205908c6a0e549b49a32316cc7915687"
       ],
       "layout": "IPY_MODEL_857bbd53751c4603a9c1a4a40429aab1"
      }
     },
     "066e806b17a64696a60793e9b47b74f2": {
      "model_module": "@jupyter-widgets/base",
      "model_module_version": "1.2.0",
      "model_name": "LayoutModel",
      "state": {}
     },
     "08e7e1f3b63c4f4ead580b8d28c2c102": {
      "model_module": "@jupyter-widgets/base",
      "model_module_version": "1.2.0",
      "model_name": "LayoutModel",
      "state": {}
     },
     "091a1883402448ea9a23eb0000954af7": {
      "model_module": "@jupyter-widgets/base",
      "model_module_version": "1.2.0",
      "model_name": "LayoutModel",
      "state": {}
     },
     "0a631c6be6ea48f0a485d84c5c087e02": {
      "model_module": "@jupyter-widgets/base",
      "model_module_version": "1.2.0",
      "model_name": "LayoutModel",
      "state": {}
     },
     "0f1a6fc3ea894c1a9a8d9a12a725e7e1": {
      "model_module": "@jupyter-widgets/controls",
      "model_module_version": "1.5.0",
      "model_name": "SliderStyleModel",
      "state": {
       "description_width": "initial"
      }
     },
     "1092a28ccf3640c2a75b3f5ce09d9dff": {
      "model_module": "@jupyter-widgets/base",
      "model_module_version": "1.2.0",
      "model_name": "LayoutModel",
      "state": {
       "width": "350px"
      }
     },
     "14e51af953744a81be1512f12f5879fe": {
      "model_module": "@jupyter-widgets/controls",
      "model_module_version": "1.5.0",
      "model_name": "HTMLModel",
      "state": {
       "layout": "IPY_MODEL_0a631c6be6ea48f0a485d84c5c087e02",
       "style": "IPY_MODEL_8e216657b0a641d5aafedd68ee7ca2bf",
       "value": "<h1>Pure Credit Economy Simulation</h1>"
      }
     },
     "1a81fdc080b24b81a1783785b0c6d747": {
      "model_module": "@jupyter-widgets/base",
      "model_module_version": "1.2.0",
      "model_name": "LayoutModel",
      "state": {}
     },
     "205908c6a0e549b49a32316cc7915687": {
      "model_module": "@jupyter-widgets/controls",
      "model_module_version": "1.5.0",
      "model_name": "VBoxModel",
      "state": {
       "children": [
        "IPY_MODEL_356cc4f60f5f4d03aa06ef20014494e2",
        "IPY_MODEL_fe294c9c71a046a2afa9a874ef9aea42"
       ],
       "layout": "IPY_MODEL_47da1f3bd9df476d80f0f63ef5d2490c"
      }
     },
     "2a70e8277ac44a42b1b4d4616b914037": {
      "model_module": "@jupyter-widgets/controls",
      "model_module_version": "1.5.0",
      "model_name": "HTMLModel",
      "state": {
       "layout": "IPY_MODEL_7a735c41240c46a3a82a994c80b97580",
       "style": "IPY_MODEL_d5edddcf310c47b28342d4f29a1fddc1",
       "value": "<h5>Capitalists<h5>"
      }
     },
     "2e06fde0c62d4c7f956b3d91fa0b2b7b": {
      "model_module": "@jupyter-widgets/base",
      "model_module_version": "1.2.0",
      "model_name": "LayoutModel",
      "state": {}
     },
     "2e81da39c2ae416288b56a3c0e8642a1": {
      "model_module": "@jupyter-widgets/controls",
      "model_module_version": "1.5.0",
      "model_name": "DescriptionStyleModel",
      "state": {
       "description_width": ""
      }
     },
     "2fe6ad6529884912a0342dcb3c62ad7d": {
      "model_module": "@jupyter-widgets/controls",
      "model_module_version": "1.5.0",
      "model_name": "HTMLModel",
      "state": {
       "layout": "IPY_MODEL_066e806b17a64696a60793e9b47b74f2",
       "style": "IPY_MODEL_39e0ccd4fa0e4a0a9acbe0e1ad77b1f3",
       "value": "<h5>Banks<h5>"
      }
     },
     "355042c5eca04be2aa392739c9745bb3": {
      "model_module": "@jupyter-widgets/base",
      "model_module_version": "1.2.0",
      "model_name": "LayoutModel",
      "state": {
       "height": "300px"
      }
     },
     "356cc4f60f5f4d03aa06ef20014494e2": {
      "model_module": "@jupyter-widgets/controls",
      "model_module_version": "1.5.0",
      "model_name": "HBoxModel",
      "state": {
       "children": [
        "IPY_MODEL_6dd57be37f1f4ecfbdffe2224809a40d",
        "IPY_MODEL_5a8ecef0a3be457d975f5c3bd613f0e0"
       ],
       "layout": "IPY_MODEL_08e7e1f3b63c4f4ead580b8d28c2c102"
      }
     },
     "37e72ef94802461eb42916d32ab1a605": {
      "model_module": "ipydatagrid",
      "model_module_version": "^1.1.12",
      "model_name": "TextRendererModel",
      "state": {
       "_model_module_version": "^1.1.12",
       "_view_module_version": "^1.1.12",
       "background_color": "IPY_MODEL_bf0a8e8cf5c1414093826c683652107c",
       "format": ".2f",
       "horizontal_alignment": "center",
       "text_color": "IPY_MODEL_551aa87de28443cba6ff790af2a3ebca"
      }
     },
     "38859dc0df3144f0892ed8e90bcd4354": {
      "model_module": "@jupyter-widgets/base",
      "model_module_version": "1.2.0",
      "model_name": "LayoutModel",
      "state": {
       "width": "350px"
      }
     },
     "39e0ccd4fa0e4a0a9acbe0e1ad77b1f3": {
      "model_module": "@jupyter-widgets/controls",
      "model_module_version": "1.5.0",
      "model_name": "DescriptionStyleModel",
      "state": {
       "description_width": ""
      }
     },
     "409a478f8df54b658b3692f840ff394b": {
      "model_module": "@jupyter-widgets/controls",
      "model_module_version": "1.5.0",
      "model_name": "VBoxModel",
      "state": {
       "children": [
        "IPY_MODEL_9352b0920750489ab33b2383b7852f70",
        "IPY_MODEL_47bc18220b534fb8a134af4753345f00",
        "IPY_MODEL_c62419079bf247778a367ad1c09e7b02"
       ],
       "layout": "IPY_MODEL_2e06fde0c62d4c7f956b3d91fa0b2b7b"
      }
     },
     "427c558465e4475291f473ee64db1501": {
      "model_module": "ipydatagrid",
      "model_module_version": "^1.1.12",
      "model_name": "TextRendererModel",
      "state": {
       "_model_module_version": "^1.1.12",
       "_view_module_version": "^1.1.12",
       "background_color": "IPY_MODEL_bf0a8e8cf5c1414093826c683652107c",
       "text_color": "IPY_MODEL_551aa87de28443cba6ff790af2a3ebca"
      }
     },
     "441149af9feb4dd3abdd59d5c9e9e18a": {
      "model_module": "@jupyter-widgets/base",
      "model_module_version": "1.2.0",
      "model_name": "LayoutModel",
      "state": {
       "width": "350px"
      }
     },
     "47bc18220b534fb8a134af4753345f00": {
      "buffers": [
       {
        "data": "AAAAAAAAAAAAAAAAAAAAAAAAAAAAAAAAAAAAAAAA+D+bBMMp4ZkVQNdM+wP8mx1Ak9/hx3DaJEB/vIeowhAoQLTDqy7wpC1AtuRhPy7GMUBkYDdsHTY0QAQspH6kaTNAZXF1Tx5CNkCELjWu2881QOQS5modMzVAm+azUzLUM0DKy3CN7ukzQH/B67J60TJAvJghkzwMM0BqKPj0Owg1QNgNwcZBhzRAmxLnPhJ4NECuSVEG7lYzQP2/4TaGjDNArHK2ZOKEMkAhpgp2vcg1QBLtwnoxgjVA1Dg1w877NECPjDUSmqgzQH2QGpWYxDNAdRitNZqvMkC0Usb/YOw1QJGE/jP5oTVA46yQWGIZNUBNyh6x08QzQNORiwvp3zNA70dzRzzKMkCKjgW4cwYzQNfJA3g7AzVA7KhItrCCNECk8erbwnM0QM4bJbjIUjNAxGqYwH6IM0CDecRc8oAyQMVgGnDhxDVAx3Nkk2d+NUDUD/rgFfg0QO2+z4PxpDNApcsr3//AM0CTxwj5EKwyQJu2POzm6DVALQ+VAY6eNUBo6gXEBRY1QPPPHnqFwTNAJTbC86jcNkCaOJX9W385QDuoN8vDIztAy3Nzql1tO0Dcg/yQvsU6QPq/Sv5vQz1AzjWmPIUCP0BVOs+lD9pAQIUmirkt/D9A+JcTOEkeQEAMP42B3zo+QDn8wHxl4T5AQyQE400FQEDgWdGqnwBAQD8lQKn7JT9AykZWf4aAPkAXrw9rX3ZAQNoEhLMamz9AuRd3LjsCQEBOiR9pjxc+QJwmz73YyD5AeAz6JK/3P0ClpFkcUPE/QMhOBnmvFz9AT3KgUStzPkBv9rB6/G9AQOLrC626jj9AHFYdcWP4P0Dk23J9vAs+QNUB91if3kBAI2Ao601SQEDaGUoF7hU/QKlbaqDesz5Afc7CYdo2PkAUm5U4vFtAQHZ294qHcD9AlH38qKDfP0DiceUt6/U9QFSc5FKL1EBAG0ENEbpIQEBy2LtqbwM/QCXA+cPboT5AcwIOZDslPkANfqw8GFNAQBcX32mPXz9AHKZBGfTOP0CG9wtrh+U9QOy5j9l8zEBAaULlNc5AQEB2MBWV2/M+QE7ebZKKkj5AsR9TrCsWPkBa8mOOsEtAQETRAlL/UD9AWJEKNqLAP0AMJNqxctc9QL+8HY+QxUBABpQLff85QECwTd5JeOY+QJh9RnVghT5AR3P7yDkJPkC4vYtBU0VAQOUU1RV7RD9At5Usb1O0P0D+Rfl7WMs9QFRFakydv0BA",
        "encoding": "base64",
        "path": [
         "_data",
         0,
         "y",
         "value"
        ]
       },
       {
        "data": "AAAAAAAAAAAAAAAAAAAAAAAAAAAAAAAAAAAAAAAA0D/PsK43LM3sPzszUq1SvfM/GiottevN+z+rfVpwLAsAQM7Xx8lKwwNASIaCVOiyB0AwK5/l0fIKQFzl2qgw4glA3UFHv32tDUCw6EboJBUNQNzDMjknRAxAejNFGkNwCkBkuusRPo0KQP8B5UNOFwlA/CCCGaZlCUA4i/Wb+goMQCC9Vl4CXwtAJW6J/sJKC0CUt8FdPckJQKeq1/OyEApAO+6d2y2xCEDXMg5IpwsNQBg8WU6XrQxAcPZGBGn6C0C/EPLCIjYKQFJrIxx2WwpAnSA88iLqCEDwGLP/KzsNQBcG/u/21wxA2jsWdtghDEC9DSnsxFsKQMUXumThfwpAQLWZtKUNCUC4aAeg710JQMq3r0pPBAxAkDa2netYC0Dc7OPPA0ULQBQl3Eq2wwlAsON1q1MLCkBa9wXR7asIQF3WzeqBBg1ACkXbGYqoDEBwak2BcvULQJL+FAVCMQpAhw/lfqpWCkBwX7b2a+UIQCWe+zqJNg1APRQcAmjTDECMOF0FXR0MQO+/06JcVwpAh52t74t7DkC8JQ6pkv8QQH3Fz9zXFxJA3fdMHOlIEkA+rf21KdkRQKgqh6lKghNANHkZ01isFEDHTRTdFHgWQK8ZXCbJUhVAS3Vv9bZ9FUBef7OrPycUQCeogKhDlhRABdta2WdcFUCBIhc5KlYVQNUYgBv9wxRA3NmO/65VFEB16RTkKfMVQOitAs0REhVATcqe6E5YFUDgsL/wtA8UQBRv39PlhRRA/LKmGMpPFUBvGJG9iksVQNyJWft0uhRANUzAi8dMFEBA8+v4peoVQEKdssjRCRVAFORoS0JQFUCYkkz+0gcUQHIC9MspfhZAL4DgjhLDFUA8EdxYSbkUQMfnRsDpdxRA/96BlpEkFEBwecegpc8VQPpO+rGv9RRAuFOocMA/FUDsS+5zR/kTQBx728O5cBZAJawRbE22FUBMkNLx9KwUQG/V+9fnaxRAowG0QtIYFEBo/eVQIMQVQGUP6ptf6hRAaBmBu6I0FUCwT11HWu4TQJCiv8z7ZRZA4q0xnb2rFUCkdWNjkqIUQIrp87axYRRAd2o3yMcOFEB5mNq9QLoVQISLrDaq4BRAPLaxzhYrFUAIGDwh9+QTQP9Q0r7AXBZACXAP/KmiFUDMM5SGpZkUQBCp2fjqWBRAhff8hSYGFED2/GRXxLEVQO8Njg5S2BRAJbkdSuIiFUAAhPun5dwTQHBcOLvRVBZA",
        "encoding": "base64",
        "path": [
         "_data",
         1,
         "y",
         "value"
        ]
       },
       {
        "data": "AAAAAAAAAAAAAAAAAAAAAAAAAAAAAAAABLo0i+4ACkDG/WscXowcQGiheaFnWiFAYkrxtLauKEBBvS+k2V8rQO02+F1mNjFAogNWP2/MM0CB7vUcrj82QFP8xu8K5DNAK+qd+l45OUCQ3WQwQ+01QOR2YyvFcjZArrWMbHTGNECY3CWOKmg1QHzIbEZS1jNAqSFi+ZqHNEAyWHD7pLI3QMJCy9rSWTVAJ5y+lYP/NUB58KStaGk0QMuJFDc2FzVAN4a25x+MM0AOOOpmnvQ4QIQ994fqtzVAg/gTEsRFNkDffxGaBp40QITgPWRfQjVA8lLJ5CmyM0BCXhosxBc5QIaInPlR2TVAvPrq+gRmNkCOOFnlb700QKZZ+psaYTVA7p5PZE3QM0B23lhBKYI0QEnfIcmIrTdAnZO4aOxUNUCHtZ1vwvo1QLTOQDrEZDRAzT/75KkSNUAxDx83qYczQOnlROg78DhAKIvuV5uzNUBNNt2Vh0E2QPFztlzcmTRAeRHOBEc+NUDkITYNI64zQPy9hIzOEzlAFv/pRW3VNUC2uoXpMGI2QO+ciS6suTRAQ0PCLJoQOkBs0Typ7Xs7QI2XJOFkpD1ANnfAcTloPEC1qFNf2+I7QIInTQiTBkBAxNMvxXiVQEDwggudczpCQPzIaEQZXkBAOZOW+uohQUDbBHtkOVo/QLdSgXAoe0BA/tja1Q1pQUAZcveMrLRAQAOHItWbYUBAIJJEvdIPQEDVgbuKZhtCQKp75fWbR0BAOhG0lYQSQUAJ0R7d9kI/QBGWXG+GcUBAbNu2o4FgQUAogxkzvqxAQJDLbpANWkBAe9O+ooQIQEBayYb9RxRCQB8iADOkQEBAt2GY4a4LQUAqmCg/ijU/QE8fHYaHxEJAeuV+uXR+QEBCGwavaJBAQNS/B1S+QEBAWEgR4bDrP0AuFS6CPQVCQAiLFKqOM0BAgr+qJrH/QEDS+rHS2h4/QATJox2buUJA0JPAJdVzQECu1EvzBYZAQAGSYuKPNkBAR/g3GLPXP0A3VI5ka/tBQPyZ6Y/nKUBAFDrk0jP2QECkGlnKMQw/QGQ8tpdusEJA2LFJ4c9qQEDOl2s/J31AQIDNqRXXLUBAVe14BIzGP0A2tSV9/PJBQHlv3a2cIUBAtXkIXAzuQEB2uCCEKPw+QKxthDOMqEJAunazKQ9jQEDof5ikh3VAQP+VKgpYJkBAw77+9c23P0COsmvxvOtBQDTiLxd8GkBAkT8vNgrnQEAXRBAWYO4+QJ82dWvFoUJA",
        "encoding": "base64",
        "path": [
         "_data",
         2,
         "y",
         "value"
        ]
       }
      ],
      "model_module": "jupyterlab-plotly",
      "model_module_version": "^5.5.0",
      "model_name": "FigureModel",
      "state": {
       "_config": {
        "plotlyServerURL": "https://plot.ly"
       },
       "_data": [
        {
         "name": "Workers",
         "type": "scatter",
         "uid": "0c8df4bc-5cd1-44ee-88f2-c2f023c83724",
         "x": [
          0,
          1,
          2,
          3,
          4,
          5,
          6,
          7,
          8,
          9,
          10,
          11,
          12,
          13,
          14,
          15,
          16,
          17,
          18,
          19,
          20,
          21,
          22,
          23,
          24,
          25,
          26,
          27,
          28,
          29,
          30,
          31,
          32,
          33,
          34,
          35,
          36,
          37,
          38,
          39,
          40,
          41,
          42,
          43,
          44,
          45,
          46,
          47,
          48,
          49,
          50,
          51,
          52,
          53,
          54,
          55,
          56,
          57,
          58,
          59,
          60,
          61,
          62,
          63,
          64,
          65,
          66,
          67,
          68,
          69,
          70,
          71,
          72,
          73,
          74,
          75,
          76,
          77,
          78,
          79,
          80,
          81,
          82,
          83,
          84,
          85,
          86,
          87,
          88,
          89,
          90,
          91,
          92,
          93,
          94,
          95,
          96,
          97,
          98,
          99,
          100,
          101,
          102,
          103,
          104,
          105,
          106,
          107,
          108,
          109,
          110,
          111,
          112,
          113,
          114,
          115,
          116,
          117,
          118,
          119,
          120
         ],
         "y": {
          "dtype": "float64",
          "shape": [
           120
          ]
         }
        },
        {
         "name": "Capitalists",
         "type": "scatter",
         "uid": "e47bdf0c-9a2b-444d-bfc1-f77a766dfcc6",
         "x": [
          0,
          1,
          2,
          3,
          4,
          5,
          6,
          7,
          8,
          9,
          10,
          11,
          12,
          13,
          14,
          15,
          16,
          17,
          18,
          19,
          20,
          21,
          22,
          23,
          24,
          25,
          26,
          27,
          28,
          29,
          30,
          31,
          32,
          33,
          34,
          35,
          36,
          37,
          38,
          39,
          40,
          41,
          42,
          43,
          44,
          45,
          46,
          47,
          48,
          49,
          50,
          51,
          52,
          53,
          54,
          55,
          56,
          57,
          58,
          59,
          60,
          61,
          62,
          63,
          64,
          65,
          66,
          67,
          68,
          69,
          70,
          71,
          72,
          73,
          74,
          75,
          76,
          77,
          78,
          79,
          80,
          81,
          82,
          83,
          84,
          85,
          86,
          87,
          88,
          89,
          90,
          91,
          92,
          93,
          94,
          95,
          96,
          97,
          98,
          99,
          100,
          101,
          102,
          103,
          104,
          105,
          106,
          107,
          108,
          109,
          110,
          111,
          112,
          113,
          114,
          115,
          116,
          117,
          118,
          119,
          120
         ],
         "y": {
          "dtype": "float64",
          "shape": [
           120
          ]
         }
        },
        {
         "name": "Firms",
         "type": "scatter",
         "uid": "435f7ec8-64e4-4831-889a-73a873699952",
         "x": [
          0,
          1,
          2,
          3,
          4,
          5,
          6,
          7,
          8,
          9,
          10,
          11,
          12,
          13,
          14,
          15,
          16,
          17,
          18,
          19,
          20,
          21,
          22,
          23,
          24,
          25,
          26,
          27,
          28,
          29,
          30,
          31,
          32,
          33,
          34,
          35,
          36,
          37,
          38,
          39,
          40,
          41,
          42,
          43,
          44,
          45,
          46,
          47,
          48,
          49,
          50,
          51,
          52,
          53,
          54,
          55,
          56,
          57,
          58,
          59,
          60,
          61,
          62,
          63,
          64,
          65,
          66,
          67,
          68,
          69,
          70,
          71,
          72,
          73,
          74,
          75,
          76,
          77,
          78,
          79,
          80,
          81,
          82,
          83,
          84,
          85,
          86,
          87,
          88,
          89,
          90,
          91,
          92,
          93,
          94,
          95,
          96,
          97,
          98,
          99,
          100,
          101,
          102,
          103,
          104,
          105,
          106,
          107,
          108,
          109,
          110,
          111,
          112,
          113,
          114,
          115,
          116,
          117,
          118,
          119,
          120
         ],
         "y": {
          "dtype": "float64",
          "shape": [
           120
          ]
         }
        }
       ],
       "_js2py_layoutDelta": {
        "layout_delta": {
         "activeshape": {
          "fillcolor": "rgb(255,0,255)",
          "opacity": 0.5
         },
         "annotations": [],
         "autotypenumbers": "strict",
         "calendar": "gregorian",
         "clickmode": "event",
         "colorscale": {
          "diverging": [
           [
            0,
            "#8e0152"
           ],
           [
            0.1,
            "#c51b7d"
           ],
           [
            0.2,
            "#de77ae"
           ],
           [
            0.3,
            "#f1b6da"
           ],
           [
            0.4,
            "#fde0ef"
           ],
           [
            0.5,
            "#f7f7f7"
           ],
           [
            0.6,
            "#e6f5d0"
           ],
           [
            0.7,
            "#b8e186"
           ],
           [
            0.8,
            "#7fbc41"
           ],
           [
            0.9,
            "#4d9221"
           ],
           [
            1,
            "#276419"
           ]
          ],
          "sequential": [
           [
            0,
            "#0d0887"
           ],
           [
            0.1111111111111111,
            "#46039f"
           ],
           [
            0.2222222222222222,
            "#7201a8"
           ],
           [
            0.3333333333333333,
            "#9c179e"
           ],
           [
            0.4444444444444444,
            "#bd3786"
           ],
           [
            0.5555555555555556,
            "#d8576b"
           ],
           [
            0.6666666666666666,
            "#ed7953"
           ],
           [
            0.7777777777777778,
            "#fb9f3a"
           ],
           [
            0.8888888888888888,
            "#fdca26"
           ],
           [
            1,
            "#f0f921"
           ]
          ],
          "sequentialminus": [
           [
            0,
            "#0d0887"
           ],
           [
            0.1111111111111111,
            "#46039f"
           ],
           [
            0.2222222222222222,
            "#7201a8"
           ],
           [
            0.3333333333333333,
            "#9c179e"
           ],
           [
            0.4444444444444444,
            "#bd3786"
           ],
           [
            0.5555555555555556,
            "#d8576b"
           ],
           [
            0.6666666666666666,
            "#ed7953"
           ],
           [
            0.7777777777777778,
            "#fb9f3a"
           ],
           [
            0.8888888888888888,
            "#fdca26"
           ],
           [
            1,
            "#f0f921"
           ]
          ]
         },
         "colorway": [
          "#636efa",
          "#EF553B",
          "#00cc96",
          "#ab63fa",
          "#FFA15A",
          "#19d3f3",
          "#FF6692",
          "#B6E880",
          "#FF97FF",
          "#FECB52"
         ],
         "dragmode": "zoom",
         "font": {
          "color": "#2a3f5f",
          "family": "\"Open Sans\", verdana, arial, sans-serif",
          "size": 12
         },
         "hidesources": false,
         "hoverdistance": 20,
         "hoverlabel": {
          "align": "left",
          "font": {
           "family": "Arial, sans-serif",
           "size": 13
          },
          "grouptitlefont": {
           "family": "Arial, sans-serif",
           "size": 13
          },
          "namelength": 15
         },
         "hovermode": "closest",
         "images": [],
         "legend": {
          "bgcolor": "rgba(0, 0, 0, 0)",
          "bordercolor": "#444",
          "borderwidth": 0,
          "font": {
           "color": "#2a3f5f",
           "family": "\"Open Sans\", verdana, arial, sans-serif",
           "size": 12
          },
          "groupclick": "togglegroup",
          "grouptitlefont": {
           "color": "#2a3f5f",
           "family": "\"Open Sans\", verdana, arial, sans-serif",
           "size": 13
          },
          "itemclick": "toggle",
          "itemdoubleclick": "toggleothers",
          "itemsizing": "trace",
          "itemwidth": 30,
          "orientation": "v",
          "title": {
           "text": ""
          },
          "traceorder": "normal",
          "valign": "middle"
         },
         "margin": {
          "autoexpand": true,
          "pad": 0
         },
         "modebar": {
          "activecolor": "rgba(68, 68, 68, 0.7)",
          "add": "",
          "bgcolor": "rgba(255, 255, 255, 0.5)",
          "color": "rgba(68, 68, 68, 0.3)",
          "orientation": "h",
          "remove": ""
         },
         "newshape": {
          "drawdirection": "diagonal",
          "fillcolor": "rgba(0,0,0,0)",
          "fillrule": "evenodd",
          "layer": "above",
          "line": {
           "color": "#444",
           "dash": "solid",
           "width": 4
          },
          "opacity": 1
         },
         "paper_bgcolor": "white",
         "plot_bgcolor": "#E5ECF6",
         "separators": ".,",
         "shapes": [],
         "showlegend": true,
         "sliders": [],
         "spikedistance": -1,
         "title": {
          "font": {
           "color": "#2a3f5f",
           "family": "\"Open Sans\", verdana, arial, sans-serif",
           "size": 17
          },
          "pad": {
           "b": 0,
           "l": 0,
           "r": 0,
           "t": 0
          },
          "x": 0.05,
          "xanchor": "auto",
          "xref": "container",
          "yanchor": "auto",
          "yref": "container"
         },
         "uniformtext": {
          "mode": false
         },
         "updatemenus": [],
         "width": 700,
         "xaxis": {
          "anchor": "y",
          "automargin": true,
          "autorange": true,
          "autotypenumbers": "strict",
          "color": "#444",
          "constrain": "range",
          "constraintoward": "center",
          "domain": [
           0,
           1
          ],
          "dtick": 20,
          "exponentformat": "B",
          "fixedrange": false,
          "gridcolor": "white",
          "gridwidth": 1,
          "hoverformat": "",
          "layer": "above traces",
          "minexponent": 3,
          "nticks": 0,
          "range": [
           0,
           119
          ],
          "rangemode": "normal",
          "separatethousands": false,
          "showexponent": "all",
          "showgrid": true,
          "showline": false,
          "showspikes": false,
          "showticklabels": true,
          "side": "bottom",
          "tick0": 0,
          "tickangle": "auto",
          "tickfont": {
           "color": "#2a3f5f",
           "family": "\"Open Sans\", verdana, arial, sans-serif",
           "size": 12
          },
          "tickformat": "",
          "ticklabeloverflow": "hide past div",
          "ticklabelposition": "outside",
          "tickmode": "auto",
          "tickprefix": "",
          "ticks": "",
          "ticksuffix": "",
          "title": {
           "font": {
            "color": "#2a3f5f",
            "family": "\"Open Sans\", verdana, arial, sans-serif",
            "size": 14
           },
           "standoff": 15,
           "text": "Click to enter X axis title"
          },
          "type": "linear",
          "visible": true,
          "zeroline": true,
          "zerolinecolor": "white",
          "zerolinewidth": 2
         },
         "yaxis": {
          "anchor": "x",
          "automargin": true,
          "autorange": true,
          "autotypenumbers": "strict",
          "color": "#444",
          "constrain": "range",
          "constraintoward": "middle",
          "domain": [
           0,
           1
          ],
          "dtick": 10,
          "exponentformat": "B",
          "fixedrange": false,
          "gridcolor": "white",
          "gridwidth": 1,
          "hoverformat": "",
          "layer": "above traces",
          "minexponent": 3,
          "nticks": 0,
          "range": [
           -2.085299214480711,
           39.620685075133515
          ],
          "rangemode": "normal",
          "separatethousands": false,
          "showexponent": "all",
          "showgrid": true,
          "showline": false,
          "showspikes": false,
          "showticklabels": true,
          "side": "left",
          "tick0": 0,
          "tickangle": "auto",
          "tickfont": {
           "color": "#2a3f5f",
           "family": "\"Open Sans\", verdana, arial, sans-serif",
           "size": 12
          },
          "tickformat": "",
          "ticklabeloverflow": "hide past div",
          "ticklabelposition": "outside",
          "tickmode": "auto",
          "tickprefix": "",
          "ticks": "",
          "ticksuffix": "",
          "title": {
           "font": {
            "color": "#2a3f5f",
            "family": "\"Open Sans\", verdana, arial, sans-serif",
            "size": 14
           },
           "standoff": 15,
           "text": "Click to enter Y axis title"
          },
          "type": "linear",
          "visible": true,
          "zeroline": true,
          "zerolinecolor": "white",
          "zerolinewidth": 2
         }
        },
        "layout_edit_id": 718
       },
       "_js2py_restyle": {},
       "_js2py_traceDeltas": {
        "trace_deltas": [
         {
          "connectgaps": false,
          "error_x": {
           "visible": false
          },
          "error_y": {
           "visible": false
          },
          "fill": "none",
          "hoverinfo": "all",
          "hoverlabel": {
           "align": "left",
           "font": {
            "family": "Arial, sans-serif",
            "size": 13
           },
           "namelength": 15
          },
          "hoveron": "points",
          "hovertemplate": "",
          "hovertext": "",
          "index": 0,
          "legendgroup": "",
          "legendgrouptitle": {
           "font": {
            "color": "#2a3f5f",
            "family": "\"Open Sans\", verdana, arial, sans-serif",
            "size": 13
           },
           "text": ""
          },
          "legendrank": 1000,
          "line": {
           "color": "#636efa",
           "dash": "solid",
           "shape": "linear",
           "simplify": true,
           "width": 2
          },
          "mode": "lines",
          "opacity": 1,
          "showlegend": true,
          "stackgroup": "",
          "text": "",
          "uid": "0c8df4bc-5cd1-44ee-88f2-c2f023c83724",
          "visible": true,
          "xaxis": "x",
          "xcalendar": "gregorian",
          "xhoverformat": "",
          "xperiod": 0,
          "yaxis": "y",
          "ycalendar": "gregorian",
          "yhoverformat": "",
          "yperiod": 0
         },
         {
          "connectgaps": false,
          "error_x": {
           "visible": false
          },
          "error_y": {
           "visible": false
          },
          "fill": "none",
          "hoverinfo": "all",
          "hoverlabel": {
           "align": "left",
           "font": {
            "family": "Arial, sans-serif",
            "size": 13
           },
           "namelength": 15
          },
          "hoveron": "points",
          "hovertemplate": "",
          "hovertext": "",
          "index": 1,
          "legendgroup": "",
          "legendgrouptitle": {
           "font": {
            "color": "#2a3f5f",
            "family": "\"Open Sans\", verdana, arial, sans-serif",
            "size": 13
           },
           "text": ""
          },
          "legendrank": 1000,
          "line": {
           "color": "#EF553B",
           "dash": "solid",
           "shape": "linear",
           "simplify": true,
           "width": 2
          },
          "mode": "lines",
          "opacity": 1,
          "showlegend": true,
          "stackgroup": "",
          "text": "",
          "uid": "e47bdf0c-9a2b-444d-bfc1-f77a766dfcc6",
          "visible": true,
          "xaxis": "x",
          "xcalendar": "gregorian",
          "xhoverformat": "",
          "xperiod": 0,
          "yaxis": "y",
          "ycalendar": "gregorian",
          "yhoverformat": "",
          "yperiod": 0
         },
         {
          "connectgaps": false,
          "error_x": {
           "visible": false
          },
          "error_y": {
           "visible": false
          },
          "fill": "none",
          "hoverinfo": "all",
          "hoverlabel": {
           "align": "left",
           "font": {
            "family": "Arial, sans-serif",
            "size": 13
           },
           "namelength": 15
          },
          "hoveron": "points",
          "hovertemplate": "",
          "hovertext": "",
          "index": 2,
          "legendgroup": "",
          "legendgrouptitle": {
           "font": {
            "color": "#2a3f5f",
            "family": "\"Open Sans\", verdana, arial, sans-serif",
            "size": 13
           },
           "text": ""
          },
          "legendrank": 1000,
          "line": {
           "color": "#00cc96",
           "dash": "solid",
           "shape": "linear",
           "simplify": true,
           "width": 2
          },
          "mode": "lines",
          "opacity": 1,
          "showlegend": true,
          "stackgroup": "",
          "text": "",
          "uid": "435f7ec8-64e4-4831-889a-73a873699952",
          "visible": true,
          "xaxis": "x",
          "xcalendar": "gregorian",
          "xhoverformat": "",
          "xperiod": 0,
          "yaxis": "y",
          "ycalendar": "gregorian",
          "yhoverformat": "",
          "yperiod": 0
         }
        ],
        "trace_edit_id": 717
       },
       "_js2py_update": {},
       "_last_layout_edit_id": 718,
       "_last_trace_edit_id": 717,
       "_layout": {
        "autosize": true,
        "height": 250,
        "legend": {
         "x": 0.01,
         "xanchor": "left",
         "y": 0.99,
         "yanchor": "top"
        },
        "margin": {
         "b": 20,
         "l": 20,
         "r": 20,
         "t": 60
        },
        "template": {
         "data": {
          "bar": [
           {
            "error_x": {
             "color": "#2a3f5f"
            },
            "error_y": {
             "color": "#2a3f5f"
            },
            "marker": {
             "line": {
              "color": "#E5ECF6",
              "width": 0.5
             },
             "pattern": {
              "fillmode": "overlay",
              "size": 10,
              "solidity": 0.2
             }
            },
            "type": "bar"
           }
          ],
          "barpolar": [
           {
            "marker": {
             "line": {
              "color": "#E5ECF6",
              "width": 0.5
             },
             "pattern": {
              "fillmode": "overlay",
              "size": 10,
              "solidity": 0.2
             }
            },
            "type": "barpolar"
           }
          ],
          "carpet": [
           {
            "aaxis": {
             "endlinecolor": "#2a3f5f",
             "gridcolor": "white",
             "linecolor": "white",
             "minorgridcolor": "white",
             "startlinecolor": "#2a3f5f"
            },
            "baxis": {
             "endlinecolor": "#2a3f5f",
             "gridcolor": "white",
             "linecolor": "white",
             "minorgridcolor": "white",
             "startlinecolor": "#2a3f5f"
            },
            "type": "carpet"
           }
          ],
          "choropleth": [
           {
            "colorbar": {
             "outlinewidth": 0,
             "ticks": ""
            },
            "type": "choropleth"
           }
          ],
          "contour": [
           {
            "colorbar": {
             "outlinewidth": 0,
             "ticks": ""
            },
            "colorscale": [
             [
              0,
              "#0d0887"
             ],
             [
              0.1111111111111111,
              "#46039f"
             ],
             [
              0.2222222222222222,
              "#7201a8"
             ],
             [
              0.3333333333333333,
              "#9c179e"
             ],
             [
              0.4444444444444444,
              "#bd3786"
             ],
             [
              0.5555555555555556,
              "#d8576b"
             ],
             [
              0.6666666666666666,
              "#ed7953"
             ],
             [
              0.7777777777777778,
              "#fb9f3a"
             ],
             [
              0.8888888888888888,
              "#fdca26"
             ],
             [
              1,
              "#f0f921"
             ]
            ],
            "type": "contour"
           }
          ],
          "contourcarpet": [
           {
            "colorbar": {
             "outlinewidth": 0,
             "ticks": ""
            },
            "type": "contourcarpet"
           }
          ],
          "heatmap": [
           {
            "colorbar": {
             "outlinewidth": 0,
             "ticks": ""
            },
            "colorscale": [
             [
              0,
              "#0d0887"
             ],
             [
              0.1111111111111111,
              "#46039f"
             ],
             [
              0.2222222222222222,
              "#7201a8"
             ],
             [
              0.3333333333333333,
              "#9c179e"
             ],
             [
              0.4444444444444444,
              "#bd3786"
             ],
             [
              0.5555555555555556,
              "#d8576b"
             ],
             [
              0.6666666666666666,
              "#ed7953"
             ],
             [
              0.7777777777777778,
              "#fb9f3a"
             ],
             [
              0.8888888888888888,
              "#fdca26"
             ],
             [
              1,
              "#f0f921"
             ]
            ],
            "type": "heatmap"
           }
          ],
          "heatmapgl": [
           {
            "colorbar": {
             "outlinewidth": 0,
             "ticks": ""
            },
            "colorscale": [
             [
              0,
              "#0d0887"
             ],
             [
              0.1111111111111111,
              "#46039f"
             ],
             [
              0.2222222222222222,
              "#7201a8"
             ],
             [
              0.3333333333333333,
              "#9c179e"
             ],
             [
              0.4444444444444444,
              "#bd3786"
             ],
             [
              0.5555555555555556,
              "#d8576b"
             ],
             [
              0.6666666666666666,
              "#ed7953"
             ],
             [
              0.7777777777777778,
              "#fb9f3a"
             ],
             [
              0.8888888888888888,
              "#fdca26"
             ],
             [
              1,
              "#f0f921"
             ]
            ],
            "type": "heatmapgl"
           }
          ],
          "histogram": [
           {
            "marker": {
             "pattern": {
              "fillmode": "overlay",
              "size": 10,
              "solidity": 0.2
             }
            },
            "type": "histogram"
           }
          ],
          "histogram2d": [
           {
            "colorbar": {
             "outlinewidth": 0,
             "ticks": ""
            },
            "colorscale": [
             [
              0,
              "#0d0887"
             ],
             [
              0.1111111111111111,
              "#46039f"
             ],
             [
              0.2222222222222222,
              "#7201a8"
             ],
             [
              0.3333333333333333,
              "#9c179e"
             ],
             [
              0.4444444444444444,
              "#bd3786"
             ],
             [
              0.5555555555555556,
              "#d8576b"
             ],
             [
              0.6666666666666666,
              "#ed7953"
             ],
             [
              0.7777777777777778,
              "#fb9f3a"
             ],
             [
              0.8888888888888888,
              "#fdca26"
             ],
             [
              1,
              "#f0f921"
             ]
            ],
            "type": "histogram2d"
           }
          ],
          "histogram2dcontour": [
           {
            "colorbar": {
             "outlinewidth": 0,
             "ticks": ""
            },
            "colorscale": [
             [
              0,
              "#0d0887"
             ],
             [
              0.1111111111111111,
              "#46039f"
             ],
             [
              0.2222222222222222,
              "#7201a8"
             ],
             [
              0.3333333333333333,
              "#9c179e"
             ],
             [
              0.4444444444444444,
              "#bd3786"
             ],
             [
              0.5555555555555556,
              "#d8576b"
             ],
             [
              0.6666666666666666,
              "#ed7953"
             ],
             [
              0.7777777777777778,
              "#fb9f3a"
             ],
             [
              0.8888888888888888,
              "#fdca26"
             ],
             [
              1,
              "#f0f921"
             ]
            ],
            "type": "histogram2dcontour"
           }
          ],
          "mesh3d": [
           {
            "colorbar": {
             "outlinewidth": 0,
             "ticks": ""
            },
            "type": "mesh3d"
           }
          ],
          "parcoords": [
           {
            "line": {
             "colorbar": {
              "outlinewidth": 0,
              "ticks": ""
             }
            },
            "type": "parcoords"
           }
          ],
          "pie": [
           {
            "automargin": true,
            "type": "pie"
           }
          ],
          "scatter": [
           {
            "marker": {
             "colorbar": {
              "outlinewidth": 0,
              "ticks": ""
             }
            },
            "type": "scatter"
           }
          ],
          "scatter3d": [
           {
            "line": {
             "colorbar": {
              "outlinewidth": 0,
              "ticks": ""
             }
            },
            "marker": {
             "colorbar": {
              "outlinewidth": 0,
              "ticks": ""
             }
            },
            "type": "scatter3d"
           }
          ],
          "scattercarpet": [
           {
            "marker": {
             "colorbar": {
              "outlinewidth": 0,
              "ticks": ""
             }
            },
            "type": "scattercarpet"
           }
          ],
          "scattergeo": [
           {
            "marker": {
             "colorbar": {
              "outlinewidth": 0,
              "ticks": ""
             }
            },
            "type": "scattergeo"
           }
          ],
          "scattergl": [
           {
            "marker": {
             "colorbar": {
              "outlinewidth": 0,
              "ticks": ""
             }
            },
            "type": "scattergl"
           }
          ],
          "scattermapbox": [
           {
            "marker": {
             "colorbar": {
              "outlinewidth": 0,
              "ticks": ""
             }
            },
            "type": "scattermapbox"
           }
          ],
          "scatterpolar": [
           {
            "marker": {
             "colorbar": {
              "outlinewidth": 0,
              "ticks": ""
             }
            },
            "type": "scatterpolar"
           }
          ],
          "scatterpolargl": [
           {
            "marker": {
             "colorbar": {
              "outlinewidth": 0,
              "ticks": ""
             }
            },
            "type": "scatterpolargl"
           }
          ],
          "scatterternary": [
           {
            "marker": {
             "colorbar": {
              "outlinewidth": 0,
              "ticks": ""
             }
            },
            "type": "scatterternary"
           }
          ],
          "surface": [
           {
            "colorbar": {
             "outlinewidth": 0,
             "ticks": ""
            },
            "colorscale": [
             [
              0,
              "#0d0887"
             ],
             [
              0.1111111111111111,
              "#46039f"
             ],
             [
              0.2222222222222222,
              "#7201a8"
             ],
             [
              0.3333333333333333,
              "#9c179e"
             ],
             [
              0.4444444444444444,
              "#bd3786"
             ],
             [
              0.5555555555555556,
              "#d8576b"
             ],
             [
              0.6666666666666666,
              "#ed7953"
             ],
             [
              0.7777777777777778,
              "#fb9f3a"
             ],
             [
              0.8888888888888888,
              "#fdca26"
             ],
             [
              1,
              "#f0f921"
             ]
            ],
            "type": "surface"
           }
          ],
          "table": [
           {
            "cells": {
             "fill": {
              "color": "#EBF0F8"
             },
             "line": {
              "color": "white"
             }
            },
            "header": {
             "fill": {
              "color": "#C8D4E3"
             },
             "line": {
              "color": "white"
             }
            },
            "type": "table"
           }
          ]
         },
         "layout": {
          "annotationdefaults": {
           "arrowcolor": "#2a3f5f",
           "arrowhead": 0,
           "arrowwidth": 1
          },
          "autotypenumbers": "strict",
          "coloraxis": {
           "colorbar": {
            "outlinewidth": 0,
            "ticks": ""
           }
          },
          "colorscale": {
           "diverging": [
            [
             0,
             "#8e0152"
            ],
            [
             0.1,
             "#c51b7d"
            ],
            [
             0.2,
             "#de77ae"
            ],
            [
             0.3,
             "#f1b6da"
            ],
            [
             0.4,
             "#fde0ef"
            ],
            [
             0.5,
             "#f7f7f7"
            ],
            [
             0.6,
             "#e6f5d0"
            ],
            [
             0.7,
             "#b8e186"
            ],
            [
             0.8,
             "#7fbc41"
            ],
            [
             0.9,
             "#4d9221"
            ],
            [
             1,
             "#276419"
            ]
           ],
           "sequential": [
            [
             0,
             "#0d0887"
            ],
            [
             0.1111111111111111,
             "#46039f"
            ],
            [
             0.2222222222222222,
             "#7201a8"
            ],
            [
             0.3333333333333333,
             "#9c179e"
            ],
            [
             0.4444444444444444,
             "#bd3786"
            ],
            [
             0.5555555555555556,
             "#d8576b"
            ],
            [
             0.6666666666666666,
             "#ed7953"
            ],
            [
             0.7777777777777778,
             "#fb9f3a"
            ],
            [
             0.8888888888888888,
             "#fdca26"
            ],
            [
             1,
             "#f0f921"
            ]
           ],
           "sequentialminus": [
            [
             0,
             "#0d0887"
            ],
            [
             0.1111111111111111,
             "#46039f"
            ],
            [
             0.2222222222222222,
             "#7201a8"
            ],
            [
             0.3333333333333333,
             "#9c179e"
            ],
            [
             0.4444444444444444,
             "#bd3786"
            ],
            [
             0.5555555555555556,
             "#d8576b"
            ],
            [
             0.6666666666666666,
             "#ed7953"
            ],
            [
             0.7777777777777778,
             "#fb9f3a"
            ],
            [
             0.8888888888888888,
             "#fdca26"
            ],
            [
             1,
             "#f0f921"
            ]
           ]
          },
          "colorway": [
           "#636efa",
           "#EF553B",
           "#00cc96",
           "#ab63fa",
           "#FFA15A",
           "#19d3f3",
           "#FF6692",
           "#B6E880",
           "#FF97FF",
           "#FECB52"
          ],
          "font": {
           "color": "#2a3f5f"
          },
          "geo": {
           "bgcolor": "white",
           "lakecolor": "white",
           "landcolor": "#E5ECF6",
           "showlakes": true,
           "showland": true,
           "subunitcolor": "white"
          },
          "hoverlabel": {
           "align": "left"
          },
          "hovermode": "closest",
          "mapbox": {
           "style": "light"
          },
          "paper_bgcolor": "white",
          "plot_bgcolor": "#E5ECF6",
          "polar": {
           "angularaxis": {
            "gridcolor": "white",
            "linecolor": "white",
            "ticks": ""
           },
           "bgcolor": "#E5ECF6",
           "radialaxis": {
            "gridcolor": "white",
            "linecolor": "white",
            "ticks": ""
           }
          },
          "scene": {
           "xaxis": {
            "backgroundcolor": "#E5ECF6",
            "gridcolor": "white",
            "gridwidth": 2,
            "linecolor": "white",
            "showbackground": true,
            "ticks": "",
            "zerolinecolor": "white"
           },
           "yaxis": {
            "backgroundcolor": "#E5ECF6",
            "gridcolor": "white",
            "gridwidth": 2,
            "linecolor": "white",
            "showbackground": true,
            "ticks": "",
            "zerolinecolor": "white"
           },
           "zaxis": {
            "backgroundcolor": "#E5ECF6",
            "gridcolor": "white",
            "gridwidth": 2,
            "linecolor": "white",
            "showbackground": true,
            "ticks": "",
            "zerolinecolor": "white"
           }
          },
          "shapedefaults": {
           "line": {
            "color": "#2a3f5f"
           }
          },
          "ternary": {
           "aaxis": {
            "gridcolor": "white",
            "linecolor": "white",
            "ticks": ""
           },
           "baxis": {
            "gridcolor": "white",
            "linecolor": "white",
            "ticks": ""
           },
           "bgcolor": "#E5ECF6",
           "caxis": {
            "gridcolor": "white",
            "linecolor": "white",
            "ticks": ""
           }
          },
          "title": {
           "x": 0.05
          },
          "xaxis": {
           "automargin": true,
           "gridcolor": "white",
           "linecolor": "white",
           "ticks": "",
           "title": {
            "standoff": 15
           },
           "zerolinecolor": "white",
           "zerolinewidth": 2
          },
          "yaxis": {
           "automargin": true,
           "gridcolor": "white",
           "linecolor": "white",
           "ticks": "",
           "title": {
            "standoff": 15
           },
           "zerolinecolor": "white",
           "zerolinewidth": 2
          }
         }
        },
        "title": {
         "text": "Incomes",
         "y": 0.85
        }
       },
       "_py2js_addTraces": {},
       "_py2js_animate": {},
       "_py2js_deleteTraces": {},
       "_py2js_moveTraces": {},
       "_py2js_removeTraceProps": {},
       "_py2js_update": {},
       "_view_count": 1
      }
     },
     "47da1f3bd9df476d80f0f63ef5d2490c": {
      "model_module": "@jupyter-widgets/base",
      "model_module_version": "1.2.0",
      "model_name": "LayoutModel",
      "state": {}
     },
     "5109b3abd7824f178b1c291965517217": {
      "model_module": "@jupyter-widgets/controls",
      "model_module_version": "1.5.0",
      "model_name": "VBoxModel",
      "state": {
       "children": [
        "IPY_MODEL_024bc0b18cb24813aa52f64ab0044353",
        "IPY_MODEL_9cb16a211a7c407ea7285d7d0b4764d0"
       ],
       "layout": "IPY_MODEL_1092a28ccf3640c2a75b3f5ce09d9dff"
      }
     },
     "551aa87de28443cba6ff790af2a3ebca": {
      "model_module": "ipydatagrid",
      "model_module_version": "^1.1.12",
      "model_name": "VegaExprModel",
      "state": {
       "_model_module_version": "^1.1.12",
       "_view_module": "ipydatagrid",
       "_view_module_version": "^1.1.12",
       "_view_name": "VegaExprView"
      }
     },
     "5a8ecef0a3be457d975f5c3bd613f0e0": {
      "model_module": "@jupyter-widgets/controls",
      "model_module_version": "1.5.0",
      "model_name": "VBoxModel",
      "state": {
       "children": [
        "IPY_MODEL_2a70e8277ac44a42b1b4d4616b914037",
        "IPY_MODEL_69f6ac7fe15d44aca7a4c156db4715bc"
       ],
       "layout": "IPY_MODEL_441149af9feb4dd3abdd59d5c9e9e18a"
      }
     },
     "5b5cf072eaec40bd848b66b08473aad5": {
      "model_module": "@jupyter-widgets/controls",
      "model_module_version": "1.5.0",
      "model_name": "ButtonStyleModel",
      "state": {
       "button_color": "green"
      }
     },
     "5cccb41795e44350bdef6cb1daa3a4dd": {
      "model_module": "@jupyter-widgets/controls",
      "model_module_version": "1.5.0",
      "model_name": "HBoxModel",
      "state": {
       "children": [
        "IPY_MODEL_0481fc8357594cbf8c91ff32a4874939",
        "IPY_MODEL_409a478f8df54b658b3692f840ff394b"
       ],
       "layout": "IPY_MODEL_091a1883402448ea9a23eb0000954af7"
      }
     },
     "5f55b2581680489a9ec1a251aec37130": {
      "model_module": "@jupyter-widgets/controls",
      "model_module_version": "1.5.0",
      "model_name": "DescriptionStyleModel",
      "state": {
       "description_width": ""
      }
     },
     "61df0a176d0a4542a012cabf8ed21588": {
      "model_module": "@jupyter-widgets/controls",
      "model_module_version": "1.5.0",
      "model_name": "ButtonModel",
      "state": {
       "description": "Run",
       "layout": "IPY_MODEL_d1630cc53bd0461588a98752a3b7c36d",
       "style": "IPY_MODEL_5b5cf072eaec40bd848b66b08473aad5"
      }
     },
     "639acea514f843beb45d16ac80d86dc4": {
      "model_module": "ipydatagrid",
      "model_module_version": "^1.1.12",
      "model_name": "TextRendererModel",
      "state": {
       "_model_module_version": "^1.1.12",
       "_view_module_version": "^1.1.12",
       "background_color": "IPY_MODEL_bf0a8e8cf5c1414093826c683652107c",
       "format": ".2f",
       "horizontal_alignment": "center",
       "text_color": "IPY_MODEL_551aa87de28443cba6ff790af2a3ebca"
      }
     },
     "69f6ac7fe15d44aca7a4c156db4715bc": {
      "model_module": "ipydatagrid",
      "model_module_version": "^1.1.12",
      "model_name": "DataGridModel",
      "state": {
       "_data": {
        "data": [
         {
          "Account": "Cash",
          "Balance Sheet": "Assets",
          "Capitalists": 14.622748127294125,
          "ipydguuid": 0
         },
         {
          "Account": "Investments",
          "Balance Sheet": "Assets",
          "Capitalists": 355,
          "ipydguuid": 1
         },
         {
          "Account": "Total",
          "Balance Sheet": "Assets",
          "Capitalists": 369.6227481272942,
          "ipydguuid": 2
         },
         {
          "Account": "Capitalists Loans",
          "Balance Sheet": "Liabilities",
          "Capitalists": 67.15731271762185,
          "ipydguuid": 3
         },
         {
          "Account": "Total",
          "Balance Sheet": "Liabilities",
          "Capitalists": 67.15731271762186,
          "ipydguuid": 4
         },
         {
          "Account": "Consumption",
          "Balance Sheet": "Equity",
          "Capitalists": -205.17554722352608,
          "ipydguuid": 5
         },
         {
          "Account": "Dividends",
          "Balance Sheet": "Equity",
          "Capitalists": 507.64098263319863,
          "ipydguuid": 6
         },
         {
          "Account": "Total",
          "Balance Sheet": "Equity",
          "Capitalists": 302.4654354096725,
          "ipydguuid": 7
         },
         {
          "Account": "Total",
          "Balance Sheet": "Liabs & Eq",
          "Capitalists": 369.62274812729436,
          "ipydguuid": 8
         }
        ],
        "fields": [
         {
          "Balance Sheet": null
         },
         {
          "Account": null
         },
         {
          "Capitalists": null
         },
         {
          "ipydguuid": null
         }
        ],
        "schema": {
         "fields": [
          {
           "name": "Balance Sheet",
           "type": "string"
          },
          {
           "name": "Account",
           "type": "string"
          },
          {
           "name": "Capitalists",
           "type": "number"
          },
          {
           "name": "ipydguuid",
           "type": "integer"
          }
         ],
         "pandas_version": "0.20.0",
         "primaryKey": [
          "Balance Sheet",
          "Account",
          "ipydguuid"
         ],
         "primaryKeyUuid": "ipydguuid"
        }
       },
       "_model_module_version": "^1.1.12",
       "_model_name": "DataGridModel",
       "_view_module_version": "^1.1.12",
       "_visible_rows": [
        0,
        1,
        2,
        3,
        4,
        5,
        6,
        7,
        8
       ],
       "auto_fit_columns": false,
       "auto_fit_params": {
        "area": "all",
        "numCols": null,
        "padding": 30
       },
       "base_column_header_size": 20,
       "base_column_size": 64,
       "base_row_header_size": 64,
       "base_row_size": 20,
       "column_widths": {
        "Account": 110,
        "Balance Sheet": 110,
        "Capitalists": 75
       },
       "default_renderer": "IPY_MODEL_c0d6587a08ec494882d074d22c96c05e",
       "header_visibility": "all",
       "layout": "IPY_MODEL_dfa5d352f2e544208356fd524a53ecbb",
       "renderers": {
        "Capitalists": "IPY_MODEL_639acea514f843beb45d16ac80d86dc4"
       }
      }
     },
     "6cfd17dfd5c742d3a8c2edbceeca6a5b": {
      "model_module": "@jupyter-widgets/base",
      "model_module_version": "1.2.0",
      "model_name": "LayoutModel",
      "state": {}
     },
     "6dd57be37f1f4ecfbdffe2224809a40d": {
      "model_module": "@jupyter-widgets/controls",
      "model_module_version": "1.5.0",
      "model_name": "VBoxModel",
      "state": {
       "children": [
        "IPY_MODEL_2fe6ad6529884912a0342dcb3c62ad7d",
        "IPY_MODEL_02d09cf2b0e14ea48da0b796d2e969db"
       ],
       "layout": "IPY_MODEL_38859dc0df3144f0892ed8e90bcd4354"
      }
     },
     "7a735c41240c46a3a82a994c80b97580": {
      "model_module": "@jupyter-widgets/base",
      "model_module_version": "1.2.0",
      "model_name": "LayoutModel",
      "state": {}
     },
     "804ae7af947d4dd7ac3f6674166d4f59": {
      "model_module": "ipydatagrid",
      "model_module_version": "^1.1.12",
      "model_name": "TextRendererModel",
      "state": {
       "_model_module_version": "^1.1.12",
       "_view_module_version": "^1.1.12",
       "background_color": "IPY_MODEL_bf0a8e8cf5c1414093826c683652107c",
       "format": ".2f",
       "horizontal_alignment": "center",
       "text_color": "IPY_MODEL_551aa87de28443cba6ff790af2a3ebca"
      }
     },
     "84061a8c5fd74a15b68fcf7f2afbee33": {
      "model_module": "ipydatagrid",
      "model_module_version": "^1.1.12",
      "model_name": "TextRendererModel",
      "state": {
       "_model_module_version": "^1.1.12",
       "_view_module_version": "^1.1.12",
       "background_color": "IPY_MODEL_bf0a8e8cf5c1414093826c683652107c",
       "text_color": "IPY_MODEL_551aa87de28443cba6ff790af2a3ebca"
      }
     },
     "857bbd53751c4603a9c1a4a40429aab1": {
      "model_module": "@jupyter-widgets/base",
      "model_module_version": "1.2.0",
      "model_name": "LayoutModel",
      "state": {}
     },
     "8a265304de374d568b746702e01d77c1": {
      "model_module": "ipydatagrid",
      "model_module_version": "^1.1.12",
      "model_name": "TextRendererModel",
      "state": {
       "_model_module_version": "^1.1.12",
       "_view_module_version": "^1.1.12",
       "background_color": "IPY_MODEL_bf0a8e8cf5c1414093826c683652107c",
       "format": ".2f",
       "horizontal_alignment": "center",
       "text_color": "IPY_MODEL_551aa87de28443cba6ff790af2a3ebca"
      }
     },
     "8c1c2c1c8aeb4278b9655d16c2632642": {
      "model_module": "@jupyter-widgets/base",
      "model_module_version": "1.2.0",
      "model_name": "LayoutModel",
      "state": {}
     },
     "8e216657b0a641d5aafedd68ee7ca2bf": {
      "model_module": "@jupyter-widgets/controls",
      "model_module_version": "1.5.0",
      "model_name": "DescriptionStyleModel",
      "state": {
       "description_width": ""
      }
     },
     "9352b0920750489ab33b2383b7852f70": {
      "buffers": [
       {
        "data": "AAAAAAAAAAAAAAAAAAAAAAAAAAAAAAAAAl2aRXcAF0CyloFYNeMxQGZnPilpED1ATIbbQeIzR0Ccdeeq2EtPQInI8eyFM1VAcknHvKFmW0CJYgKiRhthQBNC+//Hl2NAWP9O3/OuZ0AKm1tFnGxqQOYJyOr0im1AtM0svr9rb0CsFIcPMXJwQCkU4vbC/HBA8avQ8MZXcUCKM2Zz8h9yQEhkMzspEnJAz+2ZgFoNckDv3aQp9p9xQMe2Gd4o23FAh0Dr7FQIcUAvllOgyrBxQJjSHPYcfXFAxkZ18BG9cUD7ADSxb4hxQHsSEYMwx3FAkIXHcdmRcUDwJdJkK9BxQEw6v1Yj2HFANgASbYvecUC4RI3gy+NxQLWh2yZq6HFAQTOl/qzscUCoHUyshVVxQMXHXpDfxHFAdxHJFdKNcUDQ1CHTnctxQLMDgiDElXFAgSKFIMzTcUCQbTVxygJxQGbzHxA5rHFAbCzwdRJ5cUBIbPjwU7lxQO0tBA3ghHFAFxUMp7/DcUBN6clDf45xQDgXAKDjzHFA7y3TrevUcUBCrnGVYttxQCc7thSx4HFAXqsyGZCAckCBh1Rg1E9zQJyC4u8Wc3NAXaF/0WAGdECDCBcOdmB0QDRGVamqj3VAll+uUXV2dkDWbXyU4fp3QBY7QdRn/XdAi201X04UeUAtwuTmznt5QLZSDDKZj3pAoYn7SbHzekDNqgYBiCp7QDSymC11NHtABD0l7utve0CzcocJK0V8QDh9OidM1XtA5wRLoe3ke0CagXubzhl7QDz72UA8bHtARAT+FQ90e0BbhBlGA7x7QHUzF+rfj3tAxLKzw847e0CsncUxwrd7QBBRgT2ji3tAA8sLwh7Te0BM5KaUCgt7QMHYrQao+ntASTMnCyaYe0CgCTazA957QNhuy6/qr3tA8KdliZVae0AyOkhzpdV7QCHyfJbVqHtAoW/6Jrvve0AjtnTUHyd7QAArybE+FnxAQjFOekOze0BWIsWUq/h7QKzQTaDsLntAgHOhOplEe0CfelKR+cF7QOS1zrgel3tAoCgaJSrfe0Cm93mRRRd7QNAtLo/hBnxAGwyCZkWke0BpX0Sh/Ol7QPkfRSCEIHtAVJzUO3I2e0Bl2A8NEbR7QBU0f6ZyiXtAxsN8ALnRe0DHBC0cDgp7QDxfoLDi+XtA0UZ6G36Xe0AkxWfza917QFhQtiEpFHtACAbtBEwqe0BgCS27Hqh7QPjLXVuzfXtAFCXc4SvGe0CvcphTsv56QJNrS2u37ntAoUYnioKMe0A=",
        "encoding": "base64",
        "path": [
         "_data",
         0,
         "y",
         "value"
        ]
       }
      ],
      "model_module": "jupyterlab-plotly",
      "model_module_version": "^5.5.0",
      "model_name": "FigureModel",
      "state": {
       "_config": {
        "plotlyServerURL": "https://plot.ly"
       },
       "_data": [
        {
         "name": "GDP",
         "type": "scatter",
         "uid": "64bc611a-b728-497a-bf4c-c385bfda57ea",
         "x": [
          0,
          1,
          2,
          3,
          4,
          5,
          6,
          7,
          8,
          9,
          10,
          11,
          12,
          13,
          14,
          15,
          16,
          17,
          18,
          19,
          20,
          21,
          22,
          23,
          24,
          25,
          26,
          27,
          28,
          29,
          30,
          31,
          32,
          33,
          34,
          35,
          36,
          37,
          38,
          39,
          40,
          41,
          42,
          43,
          44,
          45,
          46,
          47,
          48,
          49,
          50,
          51,
          52,
          53,
          54,
          55,
          56,
          57,
          58,
          59,
          60,
          61,
          62,
          63,
          64,
          65,
          66,
          67,
          68,
          69,
          70,
          71,
          72,
          73,
          74,
          75,
          76,
          77,
          78,
          79,
          80,
          81,
          82,
          83,
          84,
          85,
          86,
          87,
          88,
          89,
          90,
          91,
          92,
          93,
          94,
          95,
          96,
          97,
          98,
          99,
          100,
          101,
          102,
          103,
          104,
          105,
          106,
          107,
          108,
          109,
          110,
          111,
          112,
          113,
          114,
          115,
          116,
          117,
          118,
          119,
          120
         ],
         "xaxis": "x",
         "y": {
          "dtype": "float64",
          "shape": [
           121
          ]
         },
         "yaxis": "y"
        },
        {
         "marker": {
          "color": "rgba(99, 110, 250, 0.33)"
         },
         "name": "New Businesses",
         "type": "bar",
         "uid": "2fec4b46-a02c-4b61-b46d-2a2d8e80ed93",
         "x": [
          0,
          1,
          2,
          3,
          4,
          5,
          6,
          7,
          8,
          9,
          10,
          11,
          12,
          13,
          14,
          15,
          16,
          17,
          18,
          19,
          20,
          21,
          22,
          23,
          24,
          25,
          26,
          27,
          28,
          29,
          30,
          31,
          32,
          33,
          34,
          35,
          36,
          37,
          38,
          39,
          40,
          41,
          42,
          43,
          44,
          45,
          46,
          47,
          48,
          49,
          50,
          51,
          52,
          53,
          54,
          55,
          56,
          57,
          58,
          59,
          60,
          61,
          62,
          63,
          64,
          65,
          66,
          67,
          68,
          69,
          70,
          71,
          72,
          73,
          74,
          75,
          76,
          77,
          78,
          79,
          80,
          81,
          82,
          83,
          84,
          85,
          86,
          87,
          88,
          89,
          90,
          91,
          92,
          93,
          94,
          95,
          96,
          97,
          98,
          99,
          100,
          101,
          102,
          103,
          104,
          105,
          106,
          107,
          108,
          109,
          110,
          111,
          112,
          113,
          114,
          115,
          116,
          117,
          118,
          119,
          120
         ],
         "xaxis": "x",
         "y": [
          0,
          0,
          0,
          1,
          3,
          4,
          6,
          7,
          9,
          11,
          13,
          13,
          16,
          16,
          17,
          16,
          15,
          14,
          13,
          14,
          12,
          11,
          9,
          10,
          7,
          10,
          9,
          10,
          9,
          10,
          9,
          10,
          10,
          10,
          10,
          10,
          10,
          8,
          10,
          9,
          10,
          9,
          10,
          7,
          10,
          9,
          10,
          9,
          10,
          9,
          10,
          10,
          10,
          10,
          12,
          14,
          13,
          14,
          14,
          17,
          18,
          21,
          18,
          20,
          19,
          21,
          20,
          19,
          18,
          18,
          20,
          17,
          17,
          14,
          16,
          16,
          17,
          16,
          15,
          17,
          16,
          17,
          14,
          18,
          16,
          17,
          16,
          15,
          17,
          16,
          17,
          14,
          18,
          16,
          17,
          14,
          15,
          17,
          16,
          17,
          14,
          18,
          16,
          17,
          14,
          15,
          17,
          16,
          17,
          14,
          18,
          16,
          17,
          14,
          15,
          17,
          16,
          17,
          14,
          18,
          16
         ],
         "yaxis": "y2"
        }
       ],
       "_js2py_layoutDelta": {
        "layout_delta": {
         "activeshape": {
          "fillcolor": "rgb(255,0,255)",
          "opacity": 0.5
         },
         "annotations": [],
         "autotypenumbers": "strict",
         "bargap": 0.2,
         "bargroupgap": 0,
         "barmode": "group",
         "barnorm": "",
         "calendar": "gregorian",
         "clickmode": "event",
         "colorscale": {
          "diverging": [
           [
            0,
            "#8e0152"
           ],
           [
            0.1,
            "#c51b7d"
           ],
           [
            0.2,
            "#de77ae"
           ],
           [
            0.3,
            "#f1b6da"
           ],
           [
            0.4,
            "#fde0ef"
           ],
           [
            0.5,
            "#f7f7f7"
           ],
           [
            0.6,
            "#e6f5d0"
           ],
           [
            0.7,
            "#b8e186"
           ],
           [
            0.8,
            "#7fbc41"
           ],
           [
            0.9,
            "#4d9221"
           ],
           [
            1,
            "#276419"
           ]
          ],
          "sequential": [
           [
            0,
            "#0d0887"
           ],
           [
            0.1111111111111111,
            "#46039f"
           ],
           [
            0.2222222222222222,
            "#7201a8"
           ],
           [
            0.3333333333333333,
            "#9c179e"
           ],
           [
            0.4444444444444444,
            "#bd3786"
           ],
           [
            0.5555555555555556,
            "#d8576b"
           ],
           [
            0.6666666666666666,
            "#ed7953"
           ],
           [
            0.7777777777777778,
            "#fb9f3a"
           ],
           [
            0.8888888888888888,
            "#fdca26"
           ],
           [
            1,
            "#f0f921"
           ]
          ],
          "sequentialminus": [
           [
            0,
            "#0d0887"
           ],
           [
            0.1111111111111111,
            "#46039f"
           ],
           [
            0.2222222222222222,
            "#7201a8"
           ],
           [
            0.3333333333333333,
            "#9c179e"
           ],
           [
            0.4444444444444444,
            "#bd3786"
           ],
           [
            0.5555555555555556,
            "#d8576b"
           ],
           [
            0.6666666666666666,
            "#ed7953"
           ],
           [
            0.7777777777777778,
            "#fb9f3a"
           ],
           [
            0.8888888888888888,
            "#fdca26"
           ],
           [
            1,
            "#f0f921"
           ]
          ]
         },
         "colorway": [
          "#636efa",
          "#EF553B",
          "#00cc96",
          "#ab63fa",
          "#FFA15A",
          "#19d3f3",
          "#FF6692",
          "#B6E880",
          "#FF97FF",
          "#FECB52"
         ],
         "dragmode": "zoom",
         "font": {
          "color": "#2a3f5f",
          "family": "\"Open Sans\", verdana, arial, sans-serif",
          "size": 12
         },
         "hidesources": false,
         "hoverdistance": 20,
         "hoverlabel": {
          "align": "left",
          "font": {
           "family": "Arial, sans-serif",
           "size": 13
          },
          "grouptitlefont": {
           "family": "Arial, sans-serif",
           "size": 13
          },
          "namelength": 15
         },
         "hovermode": "closest",
         "images": [],
         "legend": {
          "bgcolor": "rgba(0, 0, 0, 0)",
          "bordercolor": "#444",
          "borderwidth": 0,
          "font": {
           "color": "#2a3f5f",
           "family": "\"Open Sans\", verdana, arial, sans-serif",
           "size": 12
          },
          "groupclick": "togglegroup",
          "grouptitlefont": {
           "color": "#2a3f5f",
           "family": "\"Open Sans\", verdana, arial, sans-serif",
           "size": 13
          },
          "itemclick": "toggle",
          "itemdoubleclick": "toggleothers",
          "itemsizing": "trace",
          "itemwidth": 30,
          "orientation": "v",
          "title": {
           "text": ""
          },
          "traceorder": "normal",
          "valign": "middle"
         },
         "margin": {
          "autoexpand": true,
          "pad": 0
         },
         "modebar": {
          "activecolor": "rgba(68, 68, 68, 0.7)",
          "add": "",
          "bgcolor": "rgba(255, 255, 255, 0.5)",
          "color": "rgba(68, 68, 68, 0.3)",
          "orientation": "h",
          "remove": ""
         },
         "newshape": {
          "drawdirection": "diagonal",
          "fillcolor": "rgba(0,0,0,0)",
          "fillrule": "evenodd",
          "layer": "above",
          "line": {
           "color": "#444",
           "dash": "solid",
           "width": 4
          },
          "opacity": 1
         },
         "paper_bgcolor": "white",
         "plot_bgcolor": "#E5ECF6",
         "separators": ".,",
         "shapes": [],
         "showlegend": true,
         "sliders": [],
         "spikedistance": -1,
         "title": {
          "font": {
           "color": "#2a3f5f",
           "family": "\"Open Sans\", verdana, arial, sans-serif",
           "size": 17
          },
          "pad": {
           "b": 0,
           "l": 0,
           "r": 0,
           "t": 0
          },
          "x": 0.05,
          "xanchor": "auto",
          "xref": "container",
          "yanchor": "auto",
          "yref": "container"
         },
         "uniformtext": {
          "mode": false
         },
         "updatemenus": [],
         "width": 700,
         "xaxis": {
          "automargin": true,
          "autorange": true,
          "autotypenumbers": "strict",
          "color": "#444",
          "constrain": "range",
          "constraintoward": "center",
          "dtick": 20,
          "exponentformat": "B",
          "fixedrange": false,
          "hoverformat": "",
          "layer": "above traces",
          "minexponent": 3,
          "nticks": 0,
          "range": [
           -0.5,
           120.5
          ],
          "rangemode": "normal",
          "separatethousands": false,
          "showexponent": "all",
          "showgrid": false,
          "showline": false,
          "showspikes": false,
          "showticklabels": true,
          "side": "bottom",
          "tick0": 0,
          "tickangle": "auto",
          "tickfont": {
           "color": "#2a3f5f",
           "family": "\"Open Sans\", verdana, arial, sans-serif",
           "size": 12
          },
          "tickformat": "",
          "ticklabeloverflow": "hide past div",
          "ticklabelposition": "outside",
          "tickmode": "auto",
          "tickprefix": "",
          "ticks": "",
          "ticksuffix": "",
          "title": {
           "font": {
            "color": "#2a3f5f",
            "family": "\"Open Sans\", verdana, arial, sans-serif",
            "size": 14
           },
           "standoff": 15,
           "text": "Click to enter X axis title"
          },
          "type": "linear",
          "visible": true,
          "zeroline": false
         },
         "yaxis": {
          "automargin": true,
          "autorange": true,
          "autotypenumbers": "strict",
          "color": "#444",
          "constrain": "range",
          "constraintoward": "middle",
          "dtick": 100,
          "exponentformat": "B",
          "fixedrange": false,
          "gridcolor": "white",
          "gridwidth": 1,
          "hoverformat": "",
          "layer": "above traces",
          "minexponent": 3,
          "nticks": 0,
          "range": [
           -25.129055951918172,
           477.4520630864453
          ],
          "rangemode": "normal",
          "separatethousands": false,
          "showexponent": "all",
          "showgrid": true,
          "showline": false,
          "showspikes": false,
          "showticklabels": true,
          "side": "left",
          "tick0": 0,
          "tickangle": "auto",
          "tickfont": {
           "color": "#2a3f5f",
           "family": "\"Open Sans\", verdana, arial, sans-serif",
           "size": 12
          },
          "tickformat": "",
          "ticklabeloverflow": "hide past div",
          "ticklabelposition": "outside",
          "tickmode": "auto",
          "tickprefix": "",
          "ticks": "",
          "ticksuffix": "",
          "title": {
           "font": {
            "color": "#2a3f5f",
            "family": "\"Open Sans\", verdana, arial, sans-serif",
            "size": 14
           },
           "standoff": 15
          },
          "type": "linear",
          "visible": true,
          "zeroline": true,
          "zerolinecolor": "white",
          "zerolinewidth": 2
         },
         "yaxis2": {
          "automargin": true,
          "autorange": false,
          "autotypenumbers": "strict",
          "color": "#444",
          "constrain": "range",
          "constraintoward": "middle",
          "domain": [
           0,
           1
          ],
          "dtick": 10,
          "exponentformat": "B",
          "fixedrange": false,
          "gridcolor": "white",
          "gridwidth": 1,
          "hoverformat": "",
          "layer": "above traces",
          "minexponent": 3,
          "nticks": 0,
          "separatethousands": false,
          "showexponent": "all",
          "showgrid": true,
          "showline": false,
          "showspikes": false,
          "showticklabels": true,
          "tick0": 0,
          "tickangle": "auto",
          "tickfont": {
           "color": "#2a3f5f",
           "family": "\"Open Sans\", verdana, arial, sans-serif",
           "size": 12
          },
          "tickformat": "",
          "ticklabeloverflow": "hide past div",
          "ticklabelposition": "outside",
          "tickmode": "auto",
          "tickprefix": "",
          "ticks": "",
          "ticksuffix": "",
          "title": {
           "font": {
            "color": "#2a3f5f",
            "family": "\"Open Sans\", verdana, arial, sans-serif",
            "size": 14
           },
           "standoff": 15
          },
          "type": "linear",
          "visible": true,
          "zeroline": true,
          "zerolinecolor": "white",
          "zerolinewidth": 2
         }
        },
        "layout_edit_id": 481
       },
       "_js2py_pointsCallback": {},
       "_js2py_restyle": {},
       "_js2py_traceDeltas": {
        "trace_deltas": [
         {
          "connectgaps": false,
          "error_x": {
           "visible": false
          },
          "error_y": {
           "visible": false
          },
          "fill": "none",
          "hoverinfo": "all",
          "hoverlabel": {
           "align": "left",
           "font": {
            "family": "Arial, sans-serif",
            "size": 13
           },
           "namelength": 15
          },
          "hoveron": "points",
          "hovertemplate": "",
          "hovertext": "",
          "index": 0,
          "legendgroup": "",
          "legendgrouptitle": {
           "font": {
            "color": "#2a3f5f",
            "family": "\"Open Sans\", verdana, arial, sans-serif",
            "size": 13
           },
           "text": ""
          },
          "legendrank": 1000,
          "line": {
           "color": "#636efa",
           "dash": "solid",
           "shape": "linear",
           "simplify": true,
           "width": 2
          },
          "mode": "lines",
          "opacity": 1,
          "showlegend": true,
          "stackgroup": "",
          "text": "",
          "uid": "64bc611a-b728-497a-bf4c-c385bfda57ea",
          "visible": true,
          "xcalendar": "gregorian",
          "xhoverformat": "",
          "xperiod": 0,
          "ycalendar": "gregorian",
          "yhoverformat": "",
          "yperiod": 0
         },
         {
          "alignmentgroup": "",
          "cliponaxis": true,
          "constraintext": "both",
          "error_x": {
           "visible": false
          },
          "error_y": {
           "visible": false
          },
          "hoverinfo": "all",
          "hoverlabel": {
           "align": "left",
           "font": {
            "family": "Arial, sans-serif",
            "size": 13
           },
           "namelength": 15
          },
          "hovertemplate": "",
          "hovertext": "",
          "index": 1,
          "insidetextanchor": "end",
          "insidetextfont": {
           "family": "\"Open Sans\", verdana, arial, sans-serif",
           "size": 12
          },
          "legendgroup": "",
          "legendgrouptitle": {
           "font": {
            "color": "#2a3f5f",
            "family": "\"Open Sans\", verdana, arial, sans-serif",
            "size": 13
           },
           "text": ""
          },
          "legendrank": 1000,
          "marker": {
           "line": {
            "color": "#E5ECF6",
            "width": 0.5
           },
           "opacity": 1,
           "pattern": {
            "shape": ""
           }
          },
          "offsetgroup": "",
          "opacity": 1,
          "orientation": "v",
          "outsidetextfont": {
           "color": "#2a3f5f",
           "family": "\"Open Sans\", verdana, arial, sans-serif",
           "size": 12
          },
          "selected": {
           "marker": {
            "opacity": 1
           }
          },
          "showlegend": true,
          "text": "",
          "textangle": "auto",
          "textfont": {
           "color": "#2a3f5f",
           "family": "\"Open Sans\", verdana, arial, sans-serif",
           "size": 12
          },
          "textposition": "auto",
          "texttemplate": "",
          "uid": "2fec4b46-a02c-4b61-b46d-2a2d8e80ed93",
          "unselected": {
           "marker": {
            "opacity": 0.2
           }
          },
          "visible": true,
          "xcalendar": "gregorian",
          "xhoverformat": "",
          "xperiod": 0,
          "ycalendar": "gregorian",
          "yhoverformat": "",
          "yperiod": 0
         }
        ],
        "trace_edit_id": 480
       },
       "_js2py_update": {},
       "_last_layout_edit_id": 481,
       "_last_trace_edit_id": 480,
       "_layout": {
        "autosize": true,
        "height": 250,
        "legend": {
         "x": 0.1,
         "xanchor": "left",
         "y": 1,
         "yanchor": "top"
        },
        "margin": {
         "b": 20,
         "l": 20,
         "r": 20,
         "t": 60
        },
        "template": {
         "data": {
          "bar": [
           {
            "error_x": {
             "color": "#2a3f5f"
            },
            "error_y": {
             "color": "#2a3f5f"
            },
            "marker": {
             "line": {
              "color": "#E5ECF6",
              "width": 0.5
             },
             "pattern": {
              "fillmode": "overlay",
              "size": 10,
              "solidity": 0.2
             }
            },
            "type": "bar"
           }
          ],
          "barpolar": [
           {
            "marker": {
             "line": {
              "color": "#E5ECF6",
              "width": 0.5
             },
             "pattern": {
              "fillmode": "overlay",
              "size": 10,
              "solidity": 0.2
             }
            },
            "type": "barpolar"
           }
          ],
          "carpet": [
           {
            "aaxis": {
             "endlinecolor": "#2a3f5f",
             "gridcolor": "white",
             "linecolor": "white",
             "minorgridcolor": "white",
             "startlinecolor": "#2a3f5f"
            },
            "baxis": {
             "endlinecolor": "#2a3f5f",
             "gridcolor": "white",
             "linecolor": "white",
             "minorgridcolor": "white",
             "startlinecolor": "#2a3f5f"
            },
            "type": "carpet"
           }
          ],
          "choropleth": [
           {
            "colorbar": {
             "outlinewidth": 0,
             "ticks": ""
            },
            "type": "choropleth"
           }
          ],
          "contour": [
           {
            "colorbar": {
             "outlinewidth": 0,
             "ticks": ""
            },
            "colorscale": [
             [
              0,
              "#0d0887"
             ],
             [
              0.1111111111111111,
              "#46039f"
             ],
             [
              0.2222222222222222,
              "#7201a8"
             ],
             [
              0.3333333333333333,
              "#9c179e"
             ],
             [
              0.4444444444444444,
              "#bd3786"
             ],
             [
              0.5555555555555556,
              "#d8576b"
             ],
             [
              0.6666666666666666,
              "#ed7953"
             ],
             [
              0.7777777777777778,
              "#fb9f3a"
             ],
             [
              0.8888888888888888,
              "#fdca26"
             ],
             [
              1,
              "#f0f921"
             ]
            ],
            "type": "contour"
           }
          ],
          "contourcarpet": [
           {
            "colorbar": {
             "outlinewidth": 0,
             "ticks": ""
            },
            "type": "contourcarpet"
           }
          ],
          "heatmap": [
           {
            "colorbar": {
             "outlinewidth": 0,
             "ticks": ""
            },
            "colorscale": [
             [
              0,
              "#0d0887"
             ],
             [
              0.1111111111111111,
              "#46039f"
             ],
             [
              0.2222222222222222,
              "#7201a8"
             ],
             [
              0.3333333333333333,
              "#9c179e"
             ],
             [
              0.4444444444444444,
              "#bd3786"
             ],
             [
              0.5555555555555556,
              "#d8576b"
             ],
             [
              0.6666666666666666,
              "#ed7953"
             ],
             [
              0.7777777777777778,
              "#fb9f3a"
             ],
             [
              0.8888888888888888,
              "#fdca26"
             ],
             [
              1,
              "#f0f921"
             ]
            ],
            "type": "heatmap"
           }
          ],
          "heatmapgl": [
           {
            "colorbar": {
             "outlinewidth": 0,
             "ticks": ""
            },
            "colorscale": [
             [
              0,
              "#0d0887"
             ],
             [
              0.1111111111111111,
              "#46039f"
             ],
             [
              0.2222222222222222,
              "#7201a8"
             ],
             [
              0.3333333333333333,
              "#9c179e"
             ],
             [
              0.4444444444444444,
              "#bd3786"
             ],
             [
              0.5555555555555556,
              "#d8576b"
             ],
             [
              0.6666666666666666,
              "#ed7953"
             ],
             [
              0.7777777777777778,
              "#fb9f3a"
             ],
             [
              0.8888888888888888,
              "#fdca26"
             ],
             [
              1,
              "#f0f921"
             ]
            ],
            "type": "heatmapgl"
           }
          ],
          "histogram": [
           {
            "marker": {
             "pattern": {
              "fillmode": "overlay",
              "size": 10,
              "solidity": 0.2
             }
            },
            "type": "histogram"
           }
          ],
          "histogram2d": [
           {
            "colorbar": {
             "outlinewidth": 0,
             "ticks": ""
            },
            "colorscale": [
             [
              0,
              "#0d0887"
             ],
             [
              0.1111111111111111,
              "#46039f"
             ],
             [
              0.2222222222222222,
              "#7201a8"
             ],
             [
              0.3333333333333333,
              "#9c179e"
             ],
             [
              0.4444444444444444,
              "#bd3786"
             ],
             [
              0.5555555555555556,
              "#d8576b"
             ],
             [
              0.6666666666666666,
              "#ed7953"
             ],
             [
              0.7777777777777778,
              "#fb9f3a"
             ],
             [
              0.8888888888888888,
              "#fdca26"
             ],
             [
              1,
              "#f0f921"
             ]
            ],
            "type": "histogram2d"
           }
          ],
          "histogram2dcontour": [
           {
            "colorbar": {
             "outlinewidth": 0,
             "ticks": ""
            },
            "colorscale": [
             [
              0,
              "#0d0887"
             ],
             [
              0.1111111111111111,
              "#46039f"
             ],
             [
              0.2222222222222222,
              "#7201a8"
             ],
             [
              0.3333333333333333,
              "#9c179e"
             ],
             [
              0.4444444444444444,
              "#bd3786"
             ],
             [
              0.5555555555555556,
              "#d8576b"
             ],
             [
              0.6666666666666666,
              "#ed7953"
             ],
             [
              0.7777777777777778,
              "#fb9f3a"
             ],
             [
              0.8888888888888888,
              "#fdca26"
             ],
             [
              1,
              "#f0f921"
             ]
            ],
            "type": "histogram2dcontour"
           }
          ],
          "mesh3d": [
           {
            "colorbar": {
             "outlinewidth": 0,
             "ticks": ""
            },
            "type": "mesh3d"
           }
          ],
          "parcoords": [
           {
            "line": {
             "colorbar": {
              "outlinewidth": 0,
              "ticks": ""
             }
            },
            "type": "parcoords"
           }
          ],
          "pie": [
           {
            "automargin": true,
            "type": "pie"
           }
          ],
          "scatter": [
           {
            "marker": {
             "colorbar": {
              "outlinewidth": 0,
              "ticks": ""
             }
            },
            "type": "scatter"
           }
          ],
          "scatter3d": [
           {
            "line": {
             "colorbar": {
              "outlinewidth": 0,
              "ticks": ""
             }
            },
            "marker": {
             "colorbar": {
              "outlinewidth": 0,
              "ticks": ""
             }
            },
            "type": "scatter3d"
           }
          ],
          "scattercarpet": [
           {
            "marker": {
             "colorbar": {
              "outlinewidth": 0,
              "ticks": ""
             }
            },
            "type": "scattercarpet"
           }
          ],
          "scattergeo": [
           {
            "marker": {
             "colorbar": {
              "outlinewidth": 0,
              "ticks": ""
             }
            },
            "type": "scattergeo"
           }
          ],
          "scattergl": [
           {
            "marker": {
             "colorbar": {
              "outlinewidth": 0,
              "ticks": ""
             }
            },
            "type": "scattergl"
           }
          ],
          "scattermapbox": [
           {
            "marker": {
             "colorbar": {
              "outlinewidth": 0,
              "ticks": ""
             }
            },
            "type": "scattermapbox"
           }
          ],
          "scatterpolar": [
           {
            "marker": {
             "colorbar": {
              "outlinewidth": 0,
              "ticks": ""
             }
            },
            "type": "scatterpolar"
           }
          ],
          "scatterpolargl": [
           {
            "marker": {
             "colorbar": {
              "outlinewidth": 0,
              "ticks": ""
             }
            },
            "type": "scatterpolargl"
           }
          ],
          "scatterternary": [
           {
            "marker": {
             "colorbar": {
              "outlinewidth": 0,
              "ticks": ""
             }
            },
            "type": "scatterternary"
           }
          ],
          "surface": [
           {
            "colorbar": {
             "outlinewidth": 0,
             "ticks": ""
            },
            "colorscale": [
             [
              0,
              "#0d0887"
             ],
             [
              0.1111111111111111,
              "#46039f"
             ],
             [
              0.2222222222222222,
              "#7201a8"
             ],
             [
              0.3333333333333333,
              "#9c179e"
             ],
             [
              0.4444444444444444,
              "#bd3786"
             ],
             [
              0.5555555555555556,
              "#d8576b"
             ],
             [
              0.6666666666666666,
              "#ed7953"
             ],
             [
              0.7777777777777778,
              "#fb9f3a"
             ],
             [
              0.8888888888888888,
              "#fdca26"
             ],
             [
              1,
              "#f0f921"
             ]
            ],
            "type": "surface"
           }
          ],
          "table": [
           {
            "cells": {
             "fill": {
              "color": "#EBF0F8"
             },
             "line": {
              "color": "white"
             }
            },
            "header": {
             "fill": {
              "color": "#C8D4E3"
             },
             "line": {
              "color": "white"
             }
            },
            "type": "table"
           }
          ]
         },
         "layout": {
          "annotationdefaults": {
           "arrowcolor": "#2a3f5f",
           "arrowhead": 0,
           "arrowwidth": 1
          },
          "autotypenumbers": "strict",
          "coloraxis": {
           "colorbar": {
            "outlinewidth": 0,
            "ticks": ""
           }
          },
          "colorscale": {
           "diverging": [
            [
             0,
             "#8e0152"
            ],
            [
             0.1,
             "#c51b7d"
            ],
            [
             0.2,
             "#de77ae"
            ],
            [
             0.3,
             "#f1b6da"
            ],
            [
             0.4,
             "#fde0ef"
            ],
            [
             0.5,
             "#f7f7f7"
            ],
            [
             0.6,
             "#e6f5d0"
            ],
            [
             0.7,
             "#b8e186"
            ],
            [
             0.8,
             "#7fbc41"
            ],
            [
             0.9,
             "#4d9221"
            ],
            [
             1,
             "#276419"
            ]
           ],
           "sequential": [
            [
             0,
             "#0d0887"
            ],
            [
             0.1111111111111111,
             "#46039f"
            ],
            [
             0.2222222222222222,
             "#7201a8"
            ],
            [
             0.3333333333333333,
             "#9c179e"
            ],
            [
             0.4444444444444444,
             "#bd3786"
            ],
            [
             0.5555555555555556,
             "#d8576b"
            ],
            [
             0.6666666666666666,
             "#ed7953"
            ],
            [
             0.7777777777777778,
             "#fb9f3a"
            ],
            [
             0.8888888888888888,
             "#fdca26"
            ],
            [
             1,
             "#f0f921"
            ]
           ],
           "sequentialminus": [
            [
             0,
             "#0d0887"
            ],
            [
             0.1111111111111111,
             "#46039f"
            ],
            [
             0.2222222222222222,
             "#7201a8"
            ],
            [
             0.3333333333333333,
             "#9c179e"
            ],
            [
             0.4444444444444444,
             "#bd3786"
            ],
            [
             0.5555555555555556,
             "#d8576b"
            ],
            [
             0.6666666666666666,
             "#ed7953"
            ],
            [
             0.7777777777777778,
             "#fb9f3a"
            ],
            [
             0.8888888888888888,
             "#fdca26"
            ],
            [
             1,
             "#f0f921"
            ]
           ]
          },
          "colorway": [
           "#636efa",
           "#EF553B",
           "#00cc96",
           "#ab63fa",
           "#FFA15A",
           "#19d3f3",
           "#FF6692",
           "#B6E880",
           "#FF97FF",
           "#FECB52"
          ],
          "font": {
           "color": "#2a3f5f"
          },
          "geo": {
           "bgcolor": "white",
           "lakecolor": "white",
           "landcolor": "#E5ECF6",
           "showlakes": true,
           "showland": true,
           "subunitcolor": "white"
          },
          "hoverlabel": {
           "align": "left"
          },
          "hovermode": "closest",
          "mapbox": {
           "style": "light"
          },
          "paper_bgcolor": "white",
          "plot_bgcolor": "#E5ECF6",
          "polar": {
           "angularaxis": {
            "gridcolor": "white",
            "linecolor": "white",
            "ticks": ""
           },
           "bgcolor": "#E5ECF6",
           "radialaxis": {
            "gridcolor": "white",
            "linecolor": "white",
            "ticks": ""
           }
          },
          "scene": {
           "xaxis": {
            "backgroundcolor": "#E5ECF6",
            "gridcolor": "white",
            "gridwidth": 2,
            "linecolor": "white",
            "showbackground": true,
            "ticks": "",
            "zerolinecolor": "white"
           },
           "yaxis": {
            "backgroundcolor": "#E5ECF6",
            "gridcolor": "white",
            "gridwidth": 2,
            "linecolor": "white",
            "showbackground": true,
            "ticks": "",
            "zerolinecolor": "white"
           },
           "zaxis": {
            "backgroundcolor": "#E5ECF6",
            "gridcolor": "white",
            "gridwidth": 2,
            "linecolor": "white",
            "showbackground": true,
            "ticks": "",
            "zerolinecolor": "white"
           }
          },
          "shapedefaults": {
           "line": {
            "color": "#2a3f5f"
           }
          },
          "ternary": {
           "aaxis": {
            "gridcolor": "white",
            "linecolor": "white",
            "ticks": ""
           },
           "baxis": {
            "gridcolor": "white",
            "linecolor": "white",
            "ticks": ""
           },
           "bgcolor": "#E5ECF6",
           "caxis": {
            "gridcolor": "white",
            "linecolor": "white",
            "ticks": ""
           }
          },
          "title": {
           "x": 0.05
          },
          "xaxis": {
           "automargin": true,
           "gridcolor": "white",
           "linecolor": "white",
           "ticks": "",
           "title": {
            "standoff": 15
           },
           "zerolinecolor": "white",
           "zerolinewidth": 2
          },
          "yaxis": {
           "automargin": true,
           "gridcolor": "white",
           "linecolor": "white",
           "ticks": "",
           "title": {
            "standoff": 15
           },
           "zerolinecolor": "white",
           "zerolinewidth": 2
          }
         }
        },
        "title": {
         "text": "TTM GDP & New Business Formation",
         "y": 0.9
        },
        "xaxis": {
         "anchor": "y",
         "domain": [
          0,
          0.94
         ]
        },
        "yaxis": {
         "anchor": "x",
         "domain": [
          0,
          1
         ],
         "title": {
          "text": "GDP"
         }
        },
        "yaxis2": {
         "anchor": "x",
         "overlaying": "y",
         "range": [
          0,
          30
         ],
         "side": "right",
         "title": {
          "text": "New Businesses"
         }
        }
       },
       "_py2js_addTraces": {},
       "_py2js_animate": {},
       "_py2js_deleteTraces": {},
       "_py2js_moveTraces": {},
       "_py2js_removeTraceProps": {},
       "_py2js_update": {},
       "_view_count": 1
      }
     },
     "9cb16a211a7c407ea7285d7d0b4764d0": {
      "model_module": "ipydatagrid",
      "model_module_version": "^1.1.12",
      "model_name": "DataGridModel",
      "state": {
       "_data": {
        "data": [
         {
          "Account": "Cash",
          "Balance Sheet": "Assets",
          "Firms": 48.92554152050309,
          "ipydguuid": 0
         },
         {
          "Account": "Total",
          "Balance Sheet": "Assets",
          "Firms": 48.92554152050309,
          "ipydguuid": 1
         },
         {
          "Account": "Total",
          "Balance Sheet": "Liabilities",
          "Firms": 0,
          "ipydguuid": 2
         },
         {
          "Account": "Firm Equity",
          "Balance Sheet": "Equity",
          "Firms": 48.92554152050309,
          "ipydguuid": 3
         },
         {
          "Account": "Total",
          "Balance Sheet": "Equity",
          "Firms": 48.92554152050309,
          "ipydguuid": 4
         },
         {
          "Account": "Total",
          "Balance Sheet": "Liabs & Eq",
          "Firms": 48.92554152050309,
          "ipydguuid": 5
         }
        ],
        "fields": [
         {
          "Balance Sheet": null
         },
         {
          "Account": null
         },
         {
          "Firms": null
         },
         {
          "ipydguuid": null
         }
        ],
        "schema": {
         "fields": [
          {
           "name": "Balance Sheet",
           "type": "string"
          },
          {
           "name": "Account",
           "type": "string"
          },
          {
           "name": "Firms",
           "type": "number"
          },
          {
           "name": "ipydguuid",
           "type": "integer"
          }
         ],
         "pandas_version": "0.20.0",
         "primaryKey": [
          "Balance Sheet",
          "Account",
          "ipydguuid"
         ],
         "primaryKeyUuid": "ipydguuid"
        }
       },
       "_model_module_version": "^1.1.12",
       "_model_name": "DataGridModel",
       "_view_module_version": "^1.1.12",
       "_visible_rows": [
        0,
        1,
        2,
        3,
        4,
        5
       ],
       "auto_fit_columns": false,
       "auto_fit_params": {
        "area": "all",
        "numCols": null,
        "padding": 30
       },
       "base_column_header_size": 20,
       "base_column_size": 64,
       "base_row_header_size": 64,
       "base_row_size": 20,
       "column_widths": {
        "Account": 110,
        "Balance Sheet": 110,
        "Firms": 75
       },
       "default_renderer": "IPY_MODEL_01b380c3eade4fffbb111831458f029d",
       "header_visibility": "all",
       "layout": "IPY_MODEL_e4411ea5b50d4313be55ff65d8000496",
       "renderers": {
        "Firms": "IPY_MODEL_8a265304de374d568b746702e01d77c1"
       }
      }
     },
     "b1a63fae23e046808b349b0a782efdb8": {
      "model_module": "@jupyter-widgets/controls",
      "model_module_version": "1.5.0",
      "model_name": "HBoxModel",
      "state": {
       "children": [
        "IPY_MODEL_b1df5f4dca66417bb2711fd81dd2e8e4",
        "IPY_MODEL_61df0a176d0a4542a012cabf8ed21588"
       ],
       "layout": "IPY_MODEL_8c1c2c1c8aeb4278b9655d16c2632642"
      }
     },
     "b1df5f4dca66417bb2711fd81dd2e8e4": {
      "model_module": "@jupyter-widgets/controls",
      "model_module_version": "1.5.0",
      "model_name": "IntSliderModel",
      "state": {
       "description": "Required Bank Reserves",
       "layout": "IPY_MODEL_ffbafbd17aee4f958cfb8fd338511632",
       "min": 1,
       "readout_format": "$.0f",
       "style": "IPY_MODEL_0f1a6fc3ea894c1a9a8d9a12a725e7e1",
       "value": 30
      }
     },
     "b3a5c70d7c9c40e083040af0092a78bf": {
      "model_module": "@jupyter-widgets/controls",
      "model_module_version": "1.5.0",
      "model_name": "DescriptionStyleModel",
      "state": {
       "description_width": ""
      }
     },
     "b7f648296b64419b943172d29267ab2f": {
      "model_module": "@jupyter-widgets/controls",
      "model_module_version": "1.5.0",
      "model_name": "HTMLModel",
      "state": {
       "layout": "IPY_MODEL_d3b9fa8888834968b82afb20592858c5",
       "style": "IPY_MODEL_b3a5c70d7c9c40e083040af0092a78bf",
       "value": "<h5>Workers<h5>"
      }
     },
     "b7f8f7e79daa4e4899a830df05c60752": {
      "model_module": "@jupyter-widgets/controls",
      "model_module_version": "1.5.0",
      "model_name": "HTMLModel",
      "state": {
       "layout": "IPY_MODEL_6cfd17dfd5c742d3a8c2edbceeca6a5b",
       "style": "IPY_MODEL_5f55b2581680489a9ec1a251aec37130",
       "value": "<br><h3>Balance Sheets</h3>"
      }
     },
     "bf0a8e8cf5c1414093826c683652107c": {
      "model_module": "ipydatagrid",
      "model_module_version": "^1.1.12",
      "model_name": "VegaExprModel",
      "state": {
       "_model_module_version": "^1.1.12",
       "_view_module": "ipydatagrid",
       "_view_module_version": "^1.1.12",
       "_view_name": "VegaExprView"
      }
     },
     "c0d6587a08ec494882d074d22c96c05e": {
      "model_module": "ipydatagrid",
      "model_module_version": "^1.1.12",
      "model_name": "TextRendererModel",
      "state": {
       "_model_module_version": "^1.1.12",
       "_view_module_version": "^1.1.12",
       "background_color": "IPY_MODEL_bf0a8e8cf5c1414093826c683652107c",
       "text_color": "IPY_MODEL_551aa87de28443cba6ff790af2a3ebca"
      }
     },
     "c62419079bf247778a367ad1c09e7b02": {
      "buffers": [
       {
        "data": "AAAAAAAAAADA2+vuxTjaP3BEZuCUjvM/ZWT7F9FyA0C8apnAER4QQCid3iP5ChhACsQeuMm8IEDzaZ+puDEmQD0PEnsfYSxAoZch4vCjMUA4ZzozeHE1QEi6E5LBLjlAHCsGdfVEPUDnu+H0aHBAQI8m4rowAkJAcx1o89JYQ0DZohw8THVEQIk5vPuUWEVA1fsWdKEDRkAoqaFf06tGQONmrWLFHEdAoDTxdWNXR0BMGE6ilVxHQNRufZ2xYUdAo7hpOkYyR0AngZjqFjhHQGwWlcTOPUdAA11zMm5DR0CDKoKc9UhHQIfUUmllTkdAd5/A/b1TR0B4Dfi8/1hHQDsOfggrXkdABxA3QEBjR0Cs8m3CP2hHQLDc2uspbUdAYPOpF/9xR0BlHqQTTkJHQM86Q0zaR0dAE3Uc005NR0DowGINrFJHQEfZmF7yV0dAaXaYKCJdR0BZjbs/yi1HQLj88BauM0dAi14nxng5R0Dh9c+4Kj9HQK8ikVjEREdApAlODUZKR0B0Gy49sE9HQNt7pEwDVUdAE0l3nj9aR0AtxMaTZV9HQNxaFIx1ZEdA3WonceGdR0DAC8KiyQpIQPQQ5K/gdUhAAMktWy7fSEAFnhpGukZJQH18bH394ElAOAFlZR+tSkAHgmj/SqpLQMgb08LLbkxAaDxNQgUwTUCdyFh+Be5NQFQxqjvaqE5Aid4nBJFgT0BgfwecxeBPQOeCi4syFVBA9JY5EGU5UEAj+3vBNXdQQJnJdKnFmVBARykJLomhUED7RPvD8o5QQE59JL2rfFBAvStjjOuEUEBVzRQgCI1QQDHwsw4ClVBAhIRJJqGCUEB8b36Cx4pQQLoR2A/LklBAWr0AY6yaUEBL5ThIM4hQQCOPaNlBkFBAD7lbAS6YUEDerwpT+J9QQMUK+l6hp1BAdThW7fCUUEBApQQUyZxQQLbW37l/pFBAdXj/bRWsUEAvJCn3UZlQQMtt4WkXoVBAa+Wnq7uoUEAhCz9KP7BQQDP+HAtqnVBAGYWNO+WKUECB0fRJ6JJQQN9XSSDJmlBATWuxUIiiUEA6PvSk7Y9QQF0mizTbl1BAhdXd56afUEBDg4pPUadQQDDR1jOilFBADwfS5EKCUEAcCpjTaopQQPtmy+xvklBAMx8zxVKaUECb2isp24dQQDZbuTLrj1BAK+XCzNiXUEDHlluKpJ9QQFN6MzYWjVBACu+5Itd6UEBxzGDDHoNQQKeXFgdDi1BAbXvkhESTUECDo18L64BQQLXZurYYiVBA",
        "encoding": "base64",
        "path": [
         "_data",
         0,
         "y",
         "value"
        ]
       }
      ],
      "model_module": "jupyterlab-plotly",
      "model_module_version": "^5.5.0",
      "model_name": "FigureModel",
      "state": {
       "_config": {
        "plotlyServerURL": "https://plot.ly"
       },
       "_data": [
        {
         "type": "scatter",
         "uid": "28022790-fcb3-42a0-bb02-f8115479bca8",
         "x": [
          0,
          1,
          2,
          3,
          4,
          5,
          6,
          7,
          8,
          9,
          10,
          11,
          12,
          13,
          14,
          15,
          16,
          17,
          18,
          19,
          20,
          21,
          22,
          23,
          24,
          25,
          26,
          27,
          28,
          29,
          30,
          31,
          32,
          33,
          34,
          35,
          36,
          37,
          38,
          39,
          40,
          41,
          42,
          43,
          44,
          45,
          46,
          47,
          48,
          49,
          50,
          51,
          52,
          53,
          54,
          55,
          56,
          57,
          58,
          59,
          60,
          61,
          62,
          63,
          64,
          65,
          66,
          67,
          68,
          69,
          70,
          71,
          72,
          73,
          74,
          75,
          76,
          77,
          78,
          79,
          80,
          81,
          82,
          83,
          84,
          85,
          86,
          87,
          88,
          89,
          90,
          91,
          92,
          93,
          94,
          95,
          96,
          97,
          98,
          99,
          100,
          101,
          102,
          103,
          104,
          105,
          106,
          107,
          108,
          109,
          110,
          111,
          112,
          113,
          114,
          115,
          116,
          117,
          118,
          119,
          120
         ],
         "y": {
          "dtype": "float64",
          "shape": [
           120
          ]
         }
        }
       ],
       "_js2py_layoutDelta": {
        "layout_delta": {
         "activeshape": {
          "fillcolor": "rgb(255,0,255)",
          "opacity": 0.5
         },
         "annotations": [],
         "autotypenumbers": "strict",
         "calendar": "gregorian",
         "clickmode": "event",
         "colorscale": {
          "diverging": [
           [
            0,
            "#8e0152"
           ],
           [
            0.1,
            "#c51b7d"
           ],
           [
            0.2,
            "#de77ae"
           ],
           [
            0.3,
            "#f1b6da"
           ],
           [
            0.4,
            "#fde0ef"
           ],
           [
            0.5,
            "#f7f7f7"
           ],
           [
            0.6,
            "#e6f5d0"
           ],
           [
            0.7,
            "#b8e186"
           ],
           [
            0.8,
            "#7fbc41"
           ],
           [
            0.9,
            "#4d9221"
           ],
           [
            1,
            "#276419"
           ]
          ],
          "sequential": [
           [
            0,
            "#0d0887"
           ],
           [
            0.1111111111111111,
            "#46039f"
           ],
           [
            0.2222222222222222,
            "#7201a8"
           ],
           [
            0.3333333333333333,
            "#9c179e"
           ],
           [
            0.4444444444444444,
            "#bd3786"
           ],
           [
            0.5555555555555556,
            "#d8576b"
           ],
           [
            0.6666666666666666,
            "#ed7953"
           ],
           [
            0.7777777777777778,
            "#fb9f3a"
           ],
           [
            0.8888888888888888,
            "#fdca26"
           ],
           [
            1,
            "#f0f921"
           ]
          ],
          "sequentialminus": [
           [
            0,
            "#0d0887"
           ],
           [
            0.1111111111111111,
            "#46039f"
           ],
           [
            0.2222222222222222,
            "#7201a8"
           ],
           [
            0.3333333333333333,
            "#9c179e"
           ],
           [
            0.4444444444444444,
            "#bd3786"
           ],
           [
            0.5555555555555556,
            "#d8576b"
           ],
           [
            0.6666666666666666,
            "#ed7953"
           ],
           [
            0.7777777777777778,
            "#fb9f3a"
           ],
           [
            0.8888888888888888,
            "#fdca26"
           ],
           [
            1,
            "#f0f921"
           ]
          ]
         },
         "colorway": [
          "#636efa",
          "#EF553B",
          "#00cc96",
          "#ab63fa",
          "#FFA15A",
          "#19d3f3",
          "#FF6692",
          "#B6E880",
          "#FF97FF",
          "#FECB52"
         ],
         "dragmode": "zoom",
         "font": {
          "color": "#2a3f5f",
          "family": "\"Open Sans\", verdana, arial, sans-serif",
          "size": 12
         },
         "hidesources": false,
         "hoverdistance": 20,
         "hoverlabel": {
          "align": "left",
          "font": {
           "family": "Arial, sans-serif",
           "size": 13
          },
          "grouptitlefont": {
           "family": "Arial, sans-serif",
           "size": 13
          },
          "namelength": 15
         },
         "hovermode": "closest",
         "images": [],
         "margin": {
          "autoexpand": true,
          "pad": 0
         },
         "modebar": {
          "activecolor": "rgba(68, 68, 68, 0.7)",
          "add": "",
          "bgcolor": "rgba(255, 255, 255, 0.5)",
          "color": "rgba(68, 68, 68, 0.3)",
          "orientation": "h",
          "remove": ""
         },
         "newshape": {
          "drawdirection": "diagonal",
          "fillcolor": "rgba(0,0,0,0)",
          "fillrule": "evenodd",
          "layer": "above",
          "line": {
           "color": "#444",
           "dash": "solid",
           "width": 4
          },
          "opacity": 1
         },
         "paper_bgcolor": "white",
         "plot_bgcolor": "#E5ECF6",
         "separators": ".,",
         "shapes": [],
         "showlegend": false,
         "sliders": [],
         "spikedistance": -1,
         "title": {
          "font": {
           "color": "#2a3f5f",
           "family": "\"Open Sans\", verdana, arial, sans-serif",
           "size": 17
          },
          "pad": {
           "b": 0,
           "l": 0,
           "r": 0,
           "t": 0
          },
          "x": 0.05,
          "xanchor": "auto",
          "xref": "container",
          "yanchor": "auto",
          "yref": "container"
         },
         "uniformtext": {
          "mode": false
         },
         "updatemenus": [],
         "width": 700,
         "xaxis": {
          "anchor": "y",
          "automargin": true,
          "autorange": true,
          "autotypenumbers": "strict",
          "color": "#444",
          "constrain": "range",
          "constraintoward": "center",
          "domain": [
           0,
           1
          ],
          "dtick": 20,
          "exponentformat": "B",
          "fixedrange": false,
          "gridcolor": "white",
          "gridwidth": 1,
          "hoverformat": "",
          "layer": "above traces",
          "minexponent": 3,
          "nticks": 0,
          "range": [
           0,
           119
          ],
          "rangemode": "normal",
          "separatethousands": false,
          "showexponent": "all",
          "showgrid": true,
          "showline": false,
          "showspikes": false,
          "showticklabels": true,
          "side": "bottom",
          "tick0": 0,
          "tickangle": "auto",
          "tickfont": {
           "color": "#2a3f5f",
           "family": "\"Open Sans\", verdana, arial, sans-serif",
           "size": 12
          },
          "tickformat": "",
          "ticklabeloverflow": "hide past div",
          "ticklabelposition": "outside",
          "tickmode": "auto",
          "tickprefix": "",
          "ticks": "",
          "ticksuffix": "",
          "title": {
           "font": {
            "color": "#2a3f5f",
            "family": "\"Open Sans\", verdana, arial, sans-serif",
            "size": 14
           },
           "standoff": 15,
           "text": "Click to enter X axis title"
          },
          "type": "linear",
          "visible": true,
          "zeroline": true,
          "zerolinecolor": "white",
          "zerolinewidth": 2
         },
         "yaxis": {
          "anchor": "x",
          "automargin": true,
          "autorange": true,
          "autotypenumbers": "strict",
          "color": "#444",
          "constrain": "range",
          "constraintoward": "middle",
          "domain": [
           0,
           1
          ],
          "dtick": 20,
          "exponentformat": "B",
          "fixedrange": false,
          "gridcolor": "white",
          "gridwidth": 1,
          "hoverformat": "",
          "layer": "above traces",
          "minexponent": 3,
          "nticks": 0,
          "range": [
           -3.7085479398073558,
           70.46241085633977
          ],
          "rangemode": "normal",
          "separatethousands": false,
          "showexponent": "all",
          "showgrid": true,
          "showline": false,
          "showspikes": false,
          "showticklabels": true,
          "side": "left",
          "tick0": 0,
          "tickangle": "auto",
          "tickfont": {
           "color": "#2a3f5f",
           "family": "\"Open Sans\", verdana, arial, sans-serif",
           "size": 12
          },
          "tickformat": "",
          "ticklabeloverflow": "hide past div",
          "ticklabelposition": "outside",
          "tickmode": "auto",
          "tickprefix": "",
          "ticks": "",
          "ticksuffix": "",
          "title": {
           "font": {
            "color": "#2a3f5f",
            "family": "\"Open Sans\", verdana, arial, sans-serif",
            "size": 14
           },
           "standoff": 15,
           "text": "Click to enter Y axis title"
          },
          "type": "linear",
          "visible": true,
          "zeroline": true,
          "zerolinecolor": "white",
          "zerolinewidth": 2
         }
        },
        "layout_edit_id": 240
       },
       "_js2py_pointsCallback": {},
       "_js2py_restyle": {},
       "_js2py_traceDeltas": {
        "trace_deltas": [
         {
          "connectgaps": false,
          "error_x": {
           "visible": false
          },
          "error_y": {
           "visible": false
          },
          "fill": "none",
          "hoverinfo": "x+y+z+text",
          "hoverlabel": {
           "align": "left",
           "font": {
            "family": "Arial, sans-serif",
            "size": 13
           },
           "namelength": 15
          },
          "hoveron": "points",
          "hovertemplate": "",
          "hovertext": "",
          "index": 0,
          "legendgroup": "",
          "legendgrouptitle": {
           "font": {
            "color": "#2a3f5f",
            "family": "\"Open Sans\", verdana, arial, sans-serif",
            "size": 13
           },
           "text": ""
          },
          "legendrank": 1000,
          "line": {
           "color": "#636efa",
           "dash": "solid",
           "shape": "linear",
           "simplify": true,
           "width": 2
          },
          "mode": "lines",
          "name": "trace 0",
          "opacity": 1,
          "showlegend": true,
          "stackgroup": "",
          "text": "",
          "uid": "28022790-fcb3-42a0-bb02-f8115479bca8",
          "visible": true,
          "xaxis": "x",
          "xcalendar": "gregorian",
          "xhoverformat": "",
          "xperiod": 0,
          "yaxis": "y",
          "ycalendar": "gregorian",
          "yhoverformat": "",
          "yperiod": 0
         }
        ],
        "trace_edit_id": 239
       },
       "_js2py_update": {},
       "_last_layout_edit_id": 241,
       "_last_trace_edit_id": 240,
       "_layout": {
        "autosize": true,
        "height": 250,
        "margin": {
         "b": 20,
         "l": 20,
         "r": 20,
         "t": 60
        },
        "template": {
         "data": {
          "bar": [
           {
            "error_x": {
             "color": "#2a3f5f"
            },
            "error_y": {
             "color": "#2a3f5f"
            },
            "marker": {
             "line": {
              "color": "#E5ECF6",
              "width": 0.5
             },
             "pattern": {
              "fillmode": "overlay",
              "size": 10,
              "solidity": 0.2
             }
            },
            "type": "bar"
           }
          ],
          "barpolar": [
           {
            "marker": {
             "line": {
              "color": "#E5ECF6",
              "width": 0.5
             },
             "pattern": {
              "fillmode": "overlay",
              "size": 10,
              "solidity": 0.2
             }
            },
            "type": "barpolar"
           }
          ],
          "carpet": [
           {
            "aaxis": {
             "endlinecolor": "#2a3f5f",
             "gridcolor": "white",
             "linecolor": "white",
             "minorgridcolor": "white",
             "startlinecolor": "#2a3f5f"
            },
            "baxis": {
             "endlinecolor": "#2a3f5f",
             "gridcolor": "white",
             "linecolor": "white",
             "minorgridcolor": "white",
             "startlinecolor": "#2a3f5f"
            },
            "type": "carpet"
           }
          ],
          "choropleth": [
           {
            "colorbar": {
             "outlinewidth": 0,
             "ticks": ""
            },
            "type": "choropleth"
           }
          ],
          "contour": [
           {
            "colorbar": {
             "outlinewidth": 0,
             "ticks": ""
            },
            "colorscale": [
             [
              0,
              "#0d0887"
             ],
             [
              0.1111111111111111,
              "#46039f"
             ],
             [
              0.2222222222222222,
              "#7201a8"
             ],
             [
              0.3333333333333333,
              "#9c179e"
             ],
             [
              0.4444444444444444,
              "#bd3786"
             ],
             [
              0.5555555555555556,
              "#d8576b"
             ],
             [
              0.6666666666666666,
              "#ed7953"
             ],
             [
              0.7777777777777778,
              "#fb9f3a"
             ],
             [
              0.8888888888888888,
              "#fdca26"
             ],
             [
              1,
              "#f0f921"
             ]
            ],
            "type": "contour"
           }
          ],
          "contourcarpet": [
           {
            "colorbar": {
             "outlinewidth": 0,
             "ticks": ""
            },
            "type": "contourcarpet"
           }
          ],
          "heatmap": [
           {
            "colorbar": {
             "outlinewidth": 0,
             "ticks": ""
            },
            "colorscale": [
             [
              0,
              "#0d0887"
             ],
             [
              0.1111111111111111,
              "#46039f"
             ],
             [
              0.2222222222222222,
              "#7201a8"
             ],
             [
              0.3333333333333333,
              "#9c179e"
             ],
             [
              0.4444444444444444,
              "#bd3786"
             ],
             [
              0.5555555555555556,
              "#d8576b"
             ],
             [
              0.6666666666666666,
              "#ed7953"
             ],
             [
              0.7777777777777778,
              "#fb9f3a"
             ],
             [
              0.8888888888888888,
              "#fdca26"
             ],
             [
              1,
              "#f0f921"
             ]
            ],
            "type": "heatmap"
           }
          ],
          "heatmapgl": [
           {
            "colorbar": {
             "outlinewidth": 0,
             "ticks": ""
            },
            "colorscale": [
             [
              0,
              "#0d0887"
             ],
             [
              0.1111111111111111,
              "#46039f"
             ],
             [
              0.2222222222222222,
              "#7201a8"
             ],
             [
              0.3333333333333333,
              "#9c179e"
             ],
             [
              0.4444444444444444,
              "#bd3786"
             ],
             [
              0.5555555555555556,
              "#d8576b"
             ],
             [
              0.6666666666666666,
              "#ed7953"
             ],
             [
              0.7777777777777778,
              "#fb9f3a"
             ],
             [
              0.8888888888888888,
              "#fdca26"
             ],
             [
              1,
              "#f0f921"
             ]
            ],
            "type": "heatmapgl"
           }
          ],
          "histogram": [
           {
            "marker": {
             "pattern": {
              "fillmode": "overlay",
              "size": 10,
              "solidity": 0.2
             }
            },
            "type": "histogram"
           }
          ],
          "histogram2d": [
           {
            "colorbar": {
             "outlinewidth": 0,
             "ticks": ""
            },
            "colorscale": [
             [
              0,
              "#0d0887"
             ],
             [
              0.1111111111111111,
              "#46039f"
             ],
             [
              0.2222222222222222,
              "#7201a8"
             ],
             [
              0.3333333333333333,
              "#9c179e"
             ],
             [
              0.4444444444444444,
              "#bd3786"
             ],
             [
              0.5555555555555556,
              "#d8576b"
             ],
             [
              0.6666666666666666,
              "#ed7953"
             ],
             [
              0.7777777777777778,
              "#fb9f3a"
             ],
             [
              0.8888888888888888,
              "#fdca26"
             ],
             [
              1,
              "#f0f921"
             ]
            ],
            "type": "histogram2d"
           }
          ],
          "histogram2dcontour": [
           {
            "colorbar": {
             "outlinewidth": 0,
             "ticks": ""
            },
            "colorscale": [
             [
              0,
              "#0d0887"
             ],
             [
              0.1111111111111111,
              "#46039f"
             ],
             [
              0.2222222222222222,
              "#7201a8"
             ],
             [
              0.3333333333333333,
              "#9c179e"
             ],
             [
              0.4444444444444444,
              "#bd3786"
             ],
             [
              0.5555555555555556,
              "#d8576b"
             ],
             [
              0.6666666666666666,
              "#ed7953"
             ],
             [
              0.7777777777777778,
              "#fb9f3a"
             ],
             [
              0.8888888888888888,
              "#fdca26"
             ],
             [
              1,
              "#f0f921"
             ]
            ],
            "type": "histogram2dcontour"
           }
          ],
          "mesh3d": [
           {
            "colorbar": {
             "outlinewidth": 0,
             "ticks": ""
            },
            "type": "mesh3d"
           }
          ],
          "parcoords": [
           {
            "line": {
             "colorbar": {
              "outlinewidth": 0,
              "ticks": ""
             }
            },
            "type": "parcoords"
           }
          ],
          "pie": [
           {
            "automargin": true,
            "type": "pie"
           }
          ],
          "scatter": [
           {
            "marker": {
             "colorbar": {
              "outlinewidth": 0,
              "ticks": ""
             }
            },
            "type": "scatter"
           }
          ],
          "scatter3d": [
           {
            "line": {
             "colorbar": {
              "outlinewidth": 0,
              "ticks": ""
             }
            },
            "marker": {
             "colorbar": {
              "outlinewidth": 0,
              "ticks": ""
             }
            },
            "type": "scatter3d"
           }
          ],
          "scattercarpet": [
           {
            "marker": {
             "colorbar": {
              "outlinewidth": 0,
              "ticks": ""
             }
            },
            "type": "scattercarpet"
           }
          ],
          "scattergeo": [
           {
            "marker": {
             "colorbar": {
              "outlinewidth": 0,
              "ticks": ""
             }
            },
            "type": "scattergeo"
           }
          ],
          "scattergl": [
           {
            "marker": {
             "colorbar": {
              "outlinewidth": 0,
              "ticks": ""
             }
            },
            "type": "scattergl"
           }
          ],
          "scattermapbox": [
           {
            "marker": {
             "colorbar": {
              "outlinewidth": 0,
              "ticks": ""
             }
            },
            "type": "scattermapbox"
           }
          ],
          "scatterpolar": [
           {
            "marker": {
             "colorbar": {
              "outlinewidth": 0,
              "ticks": ""
             }
            },
            "type": "scatterpolar"
           }
          ],
          "scatterpolargl": [
           {
            "marker": {
             "colorbar": {
              "outlinewidth": 0,
              "ticks": ""
             }
            },
            "type": "scatterpolargl"
           }
          ],
          "scatterternary": [
           {
            "marker": {
             "colorbar": {
              "outlinewidth": 0,
              "ticks": ""
             }
            },
            "type": "scatterternary"
           }
          ],
          "surface": [
           {
            "colorbar": {
             "outlinewidth": 0,
             "ticks": ""
            },
            "colorscale": [
             [
              0,
              "#0d0887"
             ],
             [
              0.1111111111111111,
              "#46039f"
             ],
             [
              0.2222222222222222,
              "#7201a8"
             ],
             [
              0.3333333333333333,
              "#9c179e"
             ],
             [
              0.4444444444444444,
              "#bd3786"
             ],
             [
              0.5555555555555556,
              "#d8576b"
             ],
             [
              0.6666666666666666,
              "#ed7953"
             ],
             [
              0.7777777777777778,
              "#fb9f3a"
             ],
             [
              0.8888888888888888,
              "#fdca26"
             ],
             [
              1,
              "#f0f921"
             ]
            ],
            "type": "surface"
           }
          ],
          "table": [
           {
            "cells": {
             "fill": {
              "color": "#EBF0F8"
             },
             "line": {
              "color": "white"
             }
            },
            "header": {
             "fill": {
              "color": "#C8D4E3"
             },
             "line": {
              "color": "white"
             }
            },
            "type": "table"
           }
          ]
         },
         "layout": {
          "annotationdefaults": {
           "arrowcolor": "#2a3f5f",
           "arrowhead": 0,
           "arrowwidth": 1
          },
          "autotypenumbers": "strict",
          "coloraxis": {
           "colorbar": {
            "outlinewidth": 0,
            "ticks": ""
           }
          },
          "colorscale": {
           "diverging": [
            [
             0,
             "#8e0152"
            ],
            [
             0.1,
             "#c51b7d"
            ],
            [
             0.2,
             "#de77ae"
            ],
            [
             0.3,
             "#f1b6da"
            ],
            [
             0.4,
             "#fde0ef"
            ],
            [
             0.5,
             "#f7f7f7"
            ],
            [
             0.6,
             "#e6f5d0"
            ],
            [
             0.7,
             "#b8e186"
            ],
            [
             0.8,
             "#7fbc41"
            ],
            [
             0.9,
             "#4d9221"
            ],
            [
             1,
             "#276419"
            ]
           ],
           "sequential": [
            [
             0,
             "#0d0887"
            ],
            [
             0.1111111111111111,
             "#46039f"
            ],
            [
             0.2222222222222222,
             "#7201a8"
            ],
            [
             0.3333333333333333,
             "#9c179e"
            ],
            [
             0.4444444444444444,
             "#bd3786"
            ],
            [
             0.5555555555555556,
             "#d8576b"
            ],
            [
             0.6666666666666666,
             "#ed7953"
            ],
            [
             0.7777777777777778,
             "#fb9f3a"
            ],
            [
             0.8888888888888888,
             "#fdca26"
            ],
            [
             1,
             "#f0f921"
            ]
           ],
           "sequentialminus": [
            [
             0,
             "#0d0887"
            ],
            [
             0.1111111111111111,
             "#46039f"
            ],
            [
             0.2222222222222222,
             "#7201a8"
            ],
            [
             0.3333333333333333,
             "#9c179e"
            ],
            [
             0.4444444444444444,
             "#bd3786"
            ],
            [
             0.5555555555555556,
             "#d8576b"
            ],
            [
             0.6666666666666666,
             "#ed7953"
            ],
            [
             0.7777777777777778,
             "#fb9f3a"
            ],
            [
             0.8888888888888888,
             "#fdca26"
            ],
            [
             1,
             "#f0f921"
            ]
           ]
          },
          "colorway": [
           "#636efa",
           "#EF553B",
           "#00cc96",
           "#ab63fa",
           "#FFA15A",
           "#19d3f3",
           "#FF6692",
           "#B6E880",
           "#FF97FF",
           "#FECB52"
          ],
          "font": {
           "color": "#2a3f5f"
          },
          "geo": {
           "bgcolor": "white",
           "lakecolor": "white",
           "landcolor": "#E5ECF6",
           "showlakes": true,
           "showland": true,
           "subunitcolor": "white"
          },
          "hoverlabel": {
           "align": "left"
          },
          "hovermode": "closest",
          "mapbox": {
           "style": "light"
          },
          "paper_bgcolor": "white",
          "plot_bgcolor": "#E5ECF6",
          "polar": {
           "angularaxis": {
            "gridcolor": "white",
            "linecolor": "white",
            "ticks": ""
           },
           "bgcolor": "#E5ECF6",
           "radialaxis": {
            "gridcolor": "white",
            "linecolor": "white",
            "ticks": ""
           }
          },
          "scene": {
           "xaxis": {
            "backgroundcolor": "#E5ECF6",
            "gridcolor": "white",
            "gridwidth": 2,
            "linecolor": "white",
            "showbackground": true,
            "ticks": "",
            "zerolinecolor": "white"
           },
           "yaxis": {
            "backgroundcolor": "#E5ECF6",
            "gridcolor": "white",
            "gridwidth": 2,
            "linecolor": "white",
            "showbackground": true,
            "ticks": "",
            "zerolinecolor": "white"
           },
           "zaxis": {
            "backgroundcolor": "#E5ECF6",
            "gridcolor": "white",
            "gridwidth": 2,
            "linecolor": "white",
            "showbackground": true,
            "ticks": "",
            "zerolinecolor": "white"
           }
          },
          "shapedefaults": {
           "line": {
            "color": "#2a3f5f"
           }
          },
          "ternary": {
           "aaxis": {
            "gridcolor": "white",
            "linecolor": "white",
            "ticks": ""
           },
           "baxis": {
            "gridcolor": "white",
            "linecolor": "white",
            "ticks": ""
           },
           "bgcolor": "#E5ECF6",
           "caxis": {
            "gridcolor": "white",
            "linecolor": "white",
            "ticks": ""
           }
          },
          "title": {
           "x": 0.05
          },
          "xaxis": {
           "automargin": true,
           "gridcolor": "white",
           "linecolor": "white",
           "ticks": "",
           "title": {
            "standoff": 15
           },
           "zerolinecolor": "white",
           "zerolinewidth": 2
          },
          "yaxis": {
           "automargin": true,
           "gridcolor": "white",
           "linecolor": "white",
           "ticks": "",
           "title": {
            "standoff": 15
           },
           "zerolinecolor": "white",
           "zerolinewidth": 2
          }
         }
        },
        "title": {
         "text": "TTM Average Money Supply",
         "y": 0.85
        }
       },
       "_py2js_addTraces": {},
       "_py2js_animate": {},
       "_py2js_deleteTraces": {},
       "_py2js_moveTraces": {},
       "_py2js_removeLayoutProps": {},
       "_py2js_removeTraceProps": {},
       "_py2js_update": {},
       "_view_count": 1
      }
     },
     "ce3b33afe9e4442b827d39ddc7e4c2a4": {
      "model_module": "ipydatagrid",
      "model_module_version": "^1.1.12",
      "model_name": "DataGridModel",
      "state": {
       "_data": {
        "data": [
         {
          "Account": "Cash",
          "Balance Sheet": "Assets",
          "Workers": 3.609023069824545,
          "ipydguuid": 0
         },
         {
          "Account": "Total",
          "Balance Sheet": "Assets",
          "Workers": 3.609023069824545,
          "ipydguuid": 1
         },
         {
          "Account": "Total",
          "Balance Sheet": "Liabilities",
          "Workers": 0,
          "ipydguuid": 2
         },
         {
          "Account": "Wages",
          "Balance Sheet": "Equity",
          "Workers": 3045.8458957991893,
          "ipydguuid": 3
         },
         {
          "Account": "Consumption",
          "Balance Sheet": "Equity",
          "Workers": -3042.2368727293665,
          "ipydguuid": 4
         },
         {
          "Account": "Total",
          "Balance Sheet": "Equity",
          "Workers": 3.609023069822797,
          "ipydguuid": 5
         },
         {
          "Account": "Total",
          "Balance Sheet": "Liabs & Eq",
          "Workers": 3.609023069822797,
          "ipydguuid": 6
         }
        ],
        "fields": [
         {
          "Balance Sheet": null
         },
         {
          "Account": null
         },
         {
          "Workers": null
         },
         {
          "ipydguuid": null
         }
        ],
        "schema": {
         "fields": [
          {
           "name": "Balance Sheet",
           "type": "string"
          },
          {
           "name": "Account",
           "type": "string"
          },
          {
           "name": "Workers",
           "type": "number"
          },
          {
           "name": "ipydguuid",
           "type": "integer"
          }
         ],
         "pandas_version": "0.20.0",
         "primaryKey": [
          "Balance Sheet",
          "Account",
          "ipydguuid"
         ],
         "primaryKeyUuid": "ipydguuid"
        }
       },
       "_model_module_version": "^1.1.12",
       "_model_name": "DataGridModel",
       "_view_module_version": "^1.1.12",
       "_visible_rows": [
        0,
        1,
        2,
        3,
        4,
        5,
        6
       ],
       "auto_fit_columns": false,
       "auto_fit_params": {
        "area": "all",
        "numCols": null,
        "padding": 30
       },
       "base_column_header_size": 20,
       "base_column_size": 64,
       "base_row_header_size": 64,
       "base_row_size": 20,
       "column_widths": {
        "Account": 110,
        "Balance Sheet": 110,
        "Workers": 75
       },
       "default_renderer": "IPY_MODEL_427c558465e4475291f473ee64db1501",
       "header_visibility": "all",
       "layout": "IPY_MODEL_355042c5eca04be2aa392739c9745bb3",
       "renderers": {
        "Workers": "IPY_MODEL_804ae7af947d4dd7ac3f6674166d4f59"
       }
      }
     },
     "d1630cc53bd0461588a98752a3b7c36d": {
      "model_module": "@jupyter-widgets/base",
      "model_module_version": "1.2.0",
      "model_name": "LayoutModel",
      "state": {
       "width": "50px"
      }
     },
     "d3b9fa8888834968b82afb20592858c5": {
      "model_module": "@jupyter-widgets/base",
      "model_module_version": "1.2.0",
      "model_name": "LayoutModel",
      "state": {}
     },
     "d4defbbcb45b46deaa849af94f3d62d0": {
      "model_module": "@jupyter-widgets/base",
      "model_module_version": "1.2.0",
      "model_name": "LayoutModel",
      "state": {}
     },
     "d5edddcf310c47b28342d4f29a1fddc1": {
      "model_module": "@jupyter-widgets/controls",
      "model_module_version": "1.5.0",
      "model_name": "DescriptionStyleModel",
      "state": {
       "description_width": ""
      }
     },
     "d8acc74cdca4425bba87d01539c35901": {
      "model_module": "@jupyter-widgets/controls",
      "model_module_version": "1.5.0",
      "model_name": "VBoxModel",
      "state": {
       "children": [
        "IPY_MODEL_b7f648296b64419b943172d29267ab2f",
        "IPY_MODEL_ce3b33afe9e4442b827d39ddc7e4c2a4"
       ],
       "layout": "IPY_MODEL_df7b1574d1044be4b921956c5067e1ca"
      }
     },
     "df7b1574d1044be4b921956c5067e1ca": {
      "model_module": "@jupyter-widgets/base",
      "model_module_version": "1.2.0",
      "model_name": "LayoutModel",
      "state": {
       "width": "350px"
      }
     },
     "dfa5d352f2e544208356fd524a53ecbb": {
      "model_module": "@jupyter-widgets/base",
      "model_module_version": "1.2.0",
      "model_name": "LayoutModel",
      "state": {
       "height": "300px"
      }
     },
     "e4411ea5b50d4313be55ff65d8000496": {
      "model_module": "@jupyter-widgets/base",
      "model_module_version": "1.2.0",
      "model_name": "LayoutModel",
      "state": {
       "height": "300px"
      }
     },
     "f9aa1b7478a64c1380a70d207493db4e": {
      "model_module": "@jupyter-widgets/base",
      "model_module_version": "1.2.0",
      "model_name": "LayoutModel",
      "state": {
       "height": "300px"
      }
     },
     "fe294c9c71a046a2afa9a874ef9aea42": {
      "model_module": "@jupyter-widgets/controls",
      "model_module_version": "1.5.0",
      "model_name": "HBoxModel",
      "state": {
       "children": [
        "IPY_MODEL_5109b3abd7824f178b1c291965517217",
        "IPY_MODEL_d8acc74cdca4425bba87d01539c35901"
       ],
       "layout": "IPY_MODEL_d4defbbcb45b46deaa849af94f3d62d0"
      }
     },
     "ffbafbd17aee4f958cfb8fd338511632": {
      "model_module": "@jupyter-widgets/base",
      "model_module_version": "1.2.0",
      "model_name": "LayoutModel",
      "state": {
       "width": "400px"
      }
     }
    },
    "version_major": 2,
    "version_minor": 0
   }
  }
 },
 "nbformat": 4,
 "nbformat_minor": 4
}
